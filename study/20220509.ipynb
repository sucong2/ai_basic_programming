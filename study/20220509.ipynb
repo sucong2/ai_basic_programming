{
  "nbformat": 4,
  "nbformat_minor": 0,
  "metadata": {
    "colab": {
      "name": "20220509.ipynb",
      "provenance": []
    },
    "kernelspec": {
      "name": "python3",
      "display_name": "Python 3"
    },
    "language_info": {
      "name": "python"
    }
  },
  "cells": [
    {
      "cell_type": "markdown",
      "source": [
        "### extend list 추가\n"
      ],
      "metadata": {
        "id": "I2oibnP0mnW_"
      }
    },
    {
      "cell_type": "code",
      "execution_count": 1,
      "metadata": {
        "id": "TedAAi37kwsl"
      },
      "outputs": [],
      "source": [
        "a = [10,20,30,40]"
      ]
    },
    {
      "cell_type": "code",
      "source": [
        "a.extend([50,60])"
      ],
      "metadata": {
        "id": "kk7wYKMUmYDA"
      },
      "execution_count": 4,
      "outputs": []
    },
    {
      "cell_type": "code",
      "source": [
        "a"
      ],
      "metadata": {
        "colab": {
          "base_uri": "https://localhost:8080/"
        },
        "id": "36wFGua9mTMk",
        "outputId": "ba3e8d53-32cb-48af-8964-4b0b44b7452a"
      },
      "execution_count": 5,
      "outputs": [
        {
          "output_type": "execute_result",
          "data": {
            "text/plain": [
              "[10, 20, 30, 40, 50, 60, 50, 60]"
            ]
          },
          "metadata": {},
          "execution_count": 5
        }
      ]
    },
    {
      "cell_type": "markdown",
      "source": [
        "### insert 삽입"
      ],
      "metadata": {
        "id": "Khj5NlbOm-Xc"
      }
    },
    {
      "cell_type": "code",
      "source": [
        "a.insert(2,200)"
      ],
      "metadata": {
        "id": "14PJqKVFmUmp"
      },
      "execution_count": 6,
      "outputs": []
    },
    {
      "cell_type": "code",
      "source": [
        "a"
      ],
      "metadata": {
        "colab": {
          "base_uri": "https://localhost:8080/"
        },
        "id": "oMoxMWjKm8vv",
        "outputId": "d8d8389b-0b2a-49c3-8e2a-43131077bd0f"
      },
      "execution_count": 7,
      "outputs": [
        {
          "output_type": "execute_result",
          "data": {
            "text/plain": [
              "[10, 20, 200, 30, 40, 50, 60, 50, 60]"
            ]
          },
          "metadata": {},
          "execution_count": 7
        }
      ]
    },
    {
      "cell_type": "code",
      "source": [
        "a[2] = 300"
      ],
      "metadata": {
        "id": "AJPZqxfcm9iD"
      },
      "execution_count": 8,
      "outputs": []
    },
    {
      "cell_type": "code",
      "source": [
        "a"
      ],
      "metadata": {
        "colab": {
          "base_uri": "https://localhost:8080/"
        },
        "id": "pXnIWZ5mnF_r",
        "outputId": "486cd54d-3cc6-4dba-e335-8fd61a9d5b76"
      },
      "execution_count": 9,
      "outputs": [
        {
          "output_type": "execute_result",
          "data": {
            "text/plain": [
              "[10, 20, 300, 30, 40, 50, 60, 50, 60]"
            ]
          },
          "metadata": {},
          "execution_count": 9
        }
      ]
    },
    {
      "cell_type": "code",
      "source": [
        "len(a)"
      ],
      "metadata": {
        "colab": {
          "base_uri": "https://localhost:8080/"
        },
        "id": "NKyMglnunGjX",
        "outputId": "1428009d-c866-4348-c3cc-004bb2fd0fe6"
      },
      "execution_count": 10,
      "outputs": [
        {
          "output_type": "execute_result",
          "data": {
            "text/plain": [
              "9"
            ]
          },
          "metadata": {},
          "execution_count": 10
        }
      ]
    },
    {
      "cell_type": "markdown",
      "source": [
        "### 슬라이싱을 통해 삽입과 같은 효과 나타내기"
      ],
      "metadata": {
        "id": "F4vpi8Ruo3uc"
      }
    },
    {
      "cell_type": "code",
      "source": [
        "a[1:1]=[70,90]"
      ],
      "metadata": {
        "id": "1d4bgtZbnPKL"
      },
      "execution_count": 11,
      "outputs": []
    },
    {
      "cell_type": "code",
      "source": [
        "a"
      ],
      "metadata": {
        "colab": {
          "base_uri": "https://localhost:8080/"
        },
        "id": "BBMzXJLeoi77",
        "outputId": "d731ff28-9d52-4d96-c662-9bc0641113f0"
      },
      "execution_count": 12,
      "outputs": [
        {
          "output_type": "execute_result",
          "data": {
            "text/plain": [
              "[10, 70, 90, 20, 300, 30, 40, 50, 60, 50, 60]"
            ]
          },
          "metadata": {},
          "execution_count": 12
        }
      ]
    },
    {
      "cell_type": "code",
      "source": [
        "a[1:4]"
      ],
      "metadata": {
        "colab": {
          "base_uri": "https://localhost:8080/"
        },
        "id": "lbUjNu-voj1w",
        "outputId": "3828880b-e3fd-4c02-fe56-c3bb345962df"
      },
      "execution_count": 13,
      "outputs": [
        {
          "output_type": "execute_result",
          "data": {
            "text/plain": [
              "[70, 90, 20]"
            ]
          },
          "metadata": {},
          "execution_count": 13
        }
      ]
    },
    {
      "cell_type": "markdown",
      "source": [
        "### POP, 기본 출력값은 제일 마지막 "
      ],
      "metadata": {
        "id": "4DCCwsV2pI3X"
      }
    },
    {
      "cell_type": "code",
      "source": [
        "a.pop(10)"
      ],
      "metadata": {
        "colab": {
          "base_uri": "https://localhost:8080/"
        },
        "id": "DQPE-uDcozWC",
        "outputId": "06426561-10b6-44d3-d521-44cc94735667"
      },
      "execution_count": 14,
      "outputs": [
        {
          "output_type": "execute_result",
          "data": {
            "text/plain": [
              "60"
            ]
          },
          "metadata": {},
          "execution_count": 14
        }
      ]
    },
    {
      "cell_type": "code",
      "source": [
        "b = a.pop()"
      ],
      "metadata": {
        "id": "PBAgFG2lpGG2"
      },
      "execution_count": 15,
      "outputs": []
    },
    {
      "cell_type": "code",
      "source": [
        "b"
      ],
      "metadata": {
        "colab": {
          "base_uri": "https://localhost:8080/"
        },
        "id": "kYsdrI9DpTFF",
        "outputId": "7f7d7fcd-f2ed-4365-95c7-9900e47522f4"
      },
      "execution_count": 16,
      "outputs": [
        {
          "output_type": "execute_result",
          "data": {
            "text/plain": [
              "50"
            ]
          },
          "metadata": {},
          "execution_count": 16
        }
      ]
    },
    {
      "cell_type": "code",
      "source": [
        "a"
      ],
      "metadata": {
        "colab": {
          "base_uri": "https://localhost:8080/"
        },
        "id": "RC_Q-Gw9pT6Q",
        "outputId": "53e4af6a-b9b0-40a3-c9e7-a6df9c1520a4"
      },
      "execution_count": 17,
      "outputs": [
        {
          "output_type": "execute_result",
          "data": {
            "text/plain": [
              "[10, 70, 90, 20, 300, 30, 40, 50, 60]"
            ]
          },
          "metadata": {},
          "execution_count": 17
        }
      ]
    },
    {
      "cell_type": "markdown",
      "source": [
        ""
      ],
      "metadata": {
        "id": "lvvdbr7Zpvtg"
      }
    },
    {
      "cell_type": "code",
      "source": [
        ""
      ],
      "metadata": {
        "id": "P1Cpz61ztc4o"
      },
      "execution_count": null,
      "outputs": []
    },
    {
      "cell_type": "markdown",
      "source": [
        "### pop과 del의 차이 알기"
      ],
      "metadata": {
        "id": "fnEHBPNppx0q"
      }
    },
    {
      "cell_type": "code",
      "source": [
        "del a[1]"
      ],
      "metadata": {
        "id": "YqxBZEz_pXFf"
      },
      "execution_count": 18,
      "outputs": []
    },
    {
      "cell_type": "code",
      "source": [
        "a"
      ],
      "metadata": {
        "colab": {
          "base_uri": "https://localhost:8080/"
        },
        "id": "wjos_NYGpur_",
        "outputId": "740556b9-c37d-43ef-8cf1-567ed99dd2cf"
      },
      "execution_count": 19,
      "outputs": [
        {
          "output_type": "execute_result",
          "data": {
            "text/plain": [
              "[10, 90, 20, 300, 30, 40, 50, 60]"
            ]
          },
          "metadata": {},
          "execution_count": 19
        }
      ]
    },
    {
      "cell_type": "code",
      "source": [
        "a.remove(10)"
      ],
      "metadata": {
        "id": "OlzVFw0ZpwUn"
      },
      "execution_count": 20,
      "outputs": []
    },
    {
      "cell_type": "code",
      "source": [
        "a"
      ],
      "metadata": {
        "colab": {
          "base_uri": "https://localhost:8080/"
        },
        "id": "euzfAs3MqW5s",
        "outputId": "68b8a73f-f35e-48a6-c69a-801c577c3bf9"
      },
      "execution_count": 21,
      "outputs": [
        {
          "output_type": "execute_result",
          "data": {
            "text/plain": [
              "[90, 20, 300, 30, 40, 50, 60]"
            ]
          },
          "metadata": {},
          "execution_count": 21
        }
      ]
    },
    {
      "cell_type": "code",
      "source": [
        "a.remove(90)"
      ],
      "metadata": {
        "id": "HQRtVTYKqYHh"
      },
      "execution_count": 22,
      "outputs": []
    },
    {
      "cell_type": "code",
      "source": [
        "a"
      ],
      "metadata": {
        "colab": {
          "base_uri": "https://localhost:8080/"
        },
        "id": "pelG8xiXqcKI",
        "outputId": "927c2554-72c0-4ed6-a727-d9cfe7b15f2c"
      },
      "execution_count": 23,
      "outputs": [
        {
          "output_type": "execute_result",
          "data": {
            "text/plain": [
              "[20, 300, 30, 40, 50, 60]"
            ]
          },
          "metadata": {},
          "execution_count": 23
        }
      ]
    },
    {
      "cell_type": "code",
      "source": [
        "# a.remove([3]) #index를 선택하는 것은 불가능.."
      ],
      "metadata": {
        "id": "m7LmCk3Mqdpy"
      },
      "execution_count": 26,
      "outputs": []
    },
    {
      "cell_type": "code",
      "source": [
        "a.index()"
      ],
      "metadata": {
        "id": "-4lbmahtqg1G"
      },
      "execution_count": null,
      "outputs": []
    },
    {
      "cell_type": "markdown",
      "source": [
        "### Sort 정렬"
      ],
      "metadata": {
        "id": "ZQrHZuTPterT"
      }
    },
    {
      "cell_type": "code",
      "source": [
        "a.sort()"
      ],
      "metadata": {
        "id": "eNrTTtInteMk"
      },
      "execution_count": 27,
      "outputs": []
    },
    {
      "cell_type": "code",
      "source": [
        "a"
      ],
      "metadata": {
        "colab": {
          "base_uri": "https://localhost:8080/"
        },
        "id": "QiyQObCPtl-1",
        "outputId": "a1433e1c-af4f-4821-de67-ed12de82458e"
      },
      "execution_count": 28,
      "outputs": [
        {
          "output_type": "execute_result",
          "data": {
            "text/plain": [
              "[20, 30, 40, 50, 60, 300]"
            ]
          },
          "metadata": {},
          "execution_count": 28
        }
      ]
    },
    {
      "cell_type": "code",
      "source": [
        "a.sort()"
      ],
      "metadata": {
        "id": "t6ygG388tmn-"
      },
      "execution_count": null,
      "outputs": []
    }
  ]
}