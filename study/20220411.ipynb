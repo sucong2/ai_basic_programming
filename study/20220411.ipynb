{
 "cells": [
  {
   "cell_type": "code",
   "execution_count": 1,
   "id": "9a7f8624",
   "metadata": {},
   "outputs": [
    {
     "name": "stdout",
     "output_type": "stream",
     "text": [
      "hello world\n",
      "hello world\n",
      "hello world\n",
      "hello world\n",
      "hello world\n",
      "hello world\n",
      "hello world\n",
      "hello world\n",
      "hello world\n",
      "hello world\n"
     ]
    }
   ],
   "source": [
    "for i in range(10):\n",
    "    print('hello world')"
   ]
  },
  {
   "cell_type": "code",
   "execution_count": 2,
   "id": "0ea5bb54",
   "metadata": {},
   "outputs": [
    {
     "name": "stdout",
     "output_type": "stream",
     "text": [
      "3\n",
      "4\n",
      "5\n",
      "6\n",
      "7\n",
      "8\n",
      "9\n"
     ]
    }
   ],
   "source": [
    "for i in range(3,10):\n",
    "    print(i)"
   ]
  },
  {
   "cell_type": "code",
   "execution_count": 3,
   "id": "c3f1424c",
   "metadata": {},
   "outputs": [
    {
     "name": "stdout",
     "output_type": "stream",
     "text": [
      "3\n",
      "5\n",
      "7\n",
      "9\n"
     ]
    }
   ],
   "source": [
    "for i in range(3,10,2):\n",
    "    print(i)"
   ]
  },
  {
   "cell_type": "code",
   "execution_count": 4,
   "id": "0f7021a5",
   "metadata": {},
   "outputs": [
    {
     "name": "stdout",
     "output_type": "stream",
     "text": [
      "반복할 횟수를 입력하세요.5\n",
      "hello, count!! 0\n",
      "hello, count!! 1\n",
      "hello, count!! 2\n",
      "hello, count!! 3\n",
      "hello, count!! 4\n"
     ]
    }
   ],
   "source": [
    "count =int(input('반복할 횟수를 입력하세요.'))\n",
    "for i in range(count):\n",
    "    print(\"hello, count!!\",i)"
   ]
  },
  {
   "cell_type": "code",
   "execution_count": 5,
   "id": "ab475f58",
   "metadata": {},
   "outputs": [],
   "source": [
    "a = [10,20,30,40,50] #리스트에서 숫자를 가져옴"
   ]
  },
  {
   "cell_type": "code",
   "execution_count": 6,
   "id": "38546e16",
   "metadata": {},
   "outputs": [
    {
     "name": "stdout",
     "output_type": "stream",
     "text": [
      "10\n",
      "30\n",
      "60\n",
      "100\n",
      "150\n"
     ]
    }
   ],
   "source": [
    "hap = 0\n",
    "for i in a:\n",
    "    hap = hap + i\n",
    "    print(hap)"
   ]
  },
  {
   "cell_type": "code",
   "execution_count": 12,
   "id": "befa29cd",
   "metadata": {},
   "outputs": [
    {
     "name": "stdout",
     "output_type": "stream",
     "text": [
      "pear\n",
      "grape\n",
      "apple\n"
     ]
    }
   ],
   "source": [
    "fruits = { 'pear','grape','apple'} #튜플에서 문자를 가져옴\n",
    "for fruit in fruits: #fruits 중 fruit를 하나의 변수로 받아옴.\n",
    "    print(fruit)"
   ]
  },
  {
   "cell_type": "code",
   "execution_count": 13,
   "id": "ab92a7a8",
   "metadata": {},
   "outputs": [
    {
     "name": "stdout",
     "output_type": "stream",
     "text": [
      "P\n",
      "y\n",
      "t\n",
      "h\n",
      "o\n",
      "n\n"
     ]
    }
   ],
   "source": [
    "for letter in 'Python':\n",
    "    print(letter)"
   ]
  },
  {
   "cell_type": "code",
   "execution_count": 24,
   "id": "e4f77a2e",
   "metadata": {},
   "outputs": [
    {
     "name": "stdout",
     "output_type": "stream",
     "text": [
      "1부터 더할 숫자를 입력해주세요 n: 10\n",
      "시그마 I는 55 입니다.\n"
     ]
    }
   ],
   "source": [
    "n = int(input('1부터 더할 숫자를 입력해주세요 n: '))\n",
    "sigma=0\n",
    "for i in range(1,n+1):\n",
    "    sigma+= i\n",
    "\n",
    "print('시그마 I는', sigma ,'입니다.')\n",
    "        "
   ]
  },
  {
   "cell_type": "code",
   "execution_count": null,
   "id": "a756cb20",
   "metadata": {},
   "outputs": [],
   "source": []
  }
 ],
 "metadata": {
  "kernelspec": {
   "display_name": "Python 3 (ipykernel)",
   "language": "python",
   "name": "python3"
  },
  "language_info": {
   "codemirror_mode": {
    "name": "ipython",
    "version": 3
   },
   "file_extension": ".py",
   "mimetype": "text/x-python",
   "name": "python",
   "nbconvert_exporter": "python",
   "pygments_lexer": "ipython3",
   "version": "3.9.7"
  }
 },
 "nbformat": 4,
 "nbformat_minor": 5
}
