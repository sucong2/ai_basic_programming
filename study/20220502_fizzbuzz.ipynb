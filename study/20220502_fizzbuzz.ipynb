{
  "nbformat": 4,
  "nbformat_minor": 0,
  "metadata": {
    "colab": {
      "name": "20220502-fizzbuzz",
      "provenance": []
    },
    "kernelspec": {
      "name": "python3",
      "display_name": "Python 3"
    },
    "language_info": {
      "name": "python"
    }
  },
  "cells": [
    {
      "cell_type": "code",
      "execution_count": null,
      "metadata": {
        "id": "Gz2cxSHzg9Y5",
        "colab": {
          "base_uri": "https://localhost:8080/"
        },
        "outputId": "4d25e5ec-01b0-494a-d52c-a2fa60392f9b"
      },
      "outputs": [
        {
          "output_type": "stream",
          "name": "stdout",
          "text": [
            "1\n",
            "2\n",
            "Fizz\n",
            "4\n",
            "Buzz\n",
            "Fizz\n",
            "7\n",
            "8\n",
            "Fizz\n",
            "Buzz\n",
            "11\n",
            "Fizz\n",
            "13\n",
            "14\n",
            "FizzBuzz\n",
            "16\n",
            "17\n",
            "Fizz\n",
            "19\n",
            "Buzz\n",
            "Fizz\n",
            "22\n",
            "23\n",
            "Fizz\n",
            "Buzz\n",
            "26\n",
            "Fizz\n",
            "28\n",
            "29\n",
            "FizzBuzz\n"
          ]
        }
      ],
      "source": [
        "#FizzBuzz, 3과 5로 나누어지면 fizzbuzz출력, 3으로만 나누어지면 fizz출력, 5로만 나누어지면 buzz출력\n",
        "#3과 5 둘 중 하나라도 나누어지지 않으면 그대로 출력.\n",
        "for num in range(1, 31):\n",
        "\n",
        "    if num % 3 == 0 and num % 5 == 0:\n",
        "\n",
        "        print('FizzBuzz')\n",
        "\n",
        "    elif num % 3 == 0:\n",
        "\n",
        "        print('Fizz')\n",
        "\n",
        "    elif num % 5 == 0:\n",
        "\n",
        "        print('Buzz')\n",
        "\n",
        "    else:\n",
        "\n",
        "        print(num)\n",
        "\n",
        "\n",
        "\n"
      ]
    },
    {
      "cell_type": "code",
      "source": [
        "#list조작하기\n"
      ],
      "metadata": {
        "id": "5_bj5EaBo4i0"
      },
      "execution_count": null,
      "outputs": []
    }
  ]
}