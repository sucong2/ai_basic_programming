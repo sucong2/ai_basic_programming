{
 "cells": [
  {
   "cell_type": "code",
   "execution_count": 1,
   "id": "52816590",
   "metadata": {},
   "outputs": [],
   "source": [
    "def ten_div(x):\n",
    "    return 10 / x"
   ]
  },
  {
   "cell_type": "code",
   "execution_count": 2,
   "id": "698c77f6",
   "metadata": {},
   "outputs": [
    {
     "data": {
      "text/plain": [
       "5.0"
      ]
     },
     "execution_count": 2,
     "metadata": {},
     "output_type": "execute_result"
    }
   ],
   "source": [
    "ten_div(2)"
   ]
  },
  {
   "cell_type": "code",
   "execution_count": 3,
   "id": "0b32a56e",
   "metadata": {},
   "outputs": [
    {
     "ename": "ZeroDivisionError",
     "evalue": "division by zero",
     "output_type": "error",
     "traceback": [
      "\u001b[0;31m---------------------------------------------------------------------------\u001b[0m",
      "\u001b[0;31mZeroDivisionError\u001b[0m                         Traceback (most recent call last)",
      "Input \u001b[0;32mIn [3]\u001b[0m, in \u001b[0;36m<module>\u001b[0;34m\u001b[0m\n\u001b[0;32m----> 1\u001b[0m \u001b[43mten_div\u001b[49m\u001b[43m(\u001b[49m\u001b[38;5;241;43m0\u001b[39;49m\u001b[43m)\u001b[49m\n",
      "Input \u001b[0;32mIn [1]\u001b[0m, in \u001b[0;36mten_div\u001b[0;34m(x)\u001b[0m\n\u001b[1;32m      1\u001b[0m \u001b[38;5;28;01mdef\u001b[39;00m \u001b[38;5;21mten_div\u001b[39m(x):\n\u001b[0;32m----> 2\u001b[0m     \u001b[38;5;28;01mreturn\u001b[39;00m \u001b[38;5;241;43m10\u001b[39;49m\u001b[43m \u001b[49m\u001b[38;5;241;43m/\u001b[39;49m\u001b[43m \u001b[49m\u001b[43mx\u001b[49m\n",
      "\u001b[0;31mZeroDivisionError\u001b[0m: division by zero"
     ]
    }
   ],
   "source": [
    "ten_div(0)"
   ]
  },
  {
   "cell_type": "code",
   "execution_count": 4,
   "id": "df1d592f",
   "metadata": {},
   "outputs": [
    {
     "name": "stdout",
     "output_type": "stream",
     "text": [
      "나눌 숫자를 입력하세요: 0\n",
      "예외가 발생했습니다.\n"
     ]
    }
   ],
   "source": [
    "try:\n",
    "    x = int(input('나눌 숫자를 입력하세요: '))\n",
    "    y = 10 / x\n",
    "    print(y)\n",
    "except:\n",
    "    print('예외가 발생했습니다.')"
   ]
  },
  {
   "cell_type": "code",
   "execution_count": 5,
   "id": "7a18ad42",
   "metadata": {},
   "outputs": [],
   "source": [
    "y = [10, 20, 30]"
   ]
  },
  {
   "cell_type": "code",
   "execution_count": 6,
   "id": "91c3f838",
   "metadata": {},
   "outputs": [
    {
     "name": "stdout",
     "output_type": "stream",
     "text": [
      "인덱스와 나눌 숫자를 입력하세요: 0 0\n",
      "숫자를 0으로 나눌 수 없습니다\n"
     ]
    }
   ],
   "source": [
    "try:\n",
    "    index, x = map(int, input('인덱스와 나눌 숫자를 입력하세요: ').split())\n",
    "    print(y[index] / x)\n",
    "except ZeroDivisionError:\n",
    "    print('숫자를 0으로 나눌 수 없습니다')\n",
    "except IndexError:\n",
    "    print('잘못된 인덱스입니다')"
   ]
  },
  {
   "cell_type": "code",
   "execution_count": 7,
   "id": "9448612d",
   "metadata": {},
   "outputs": [
    {
     "name": "stdout",
     "output_type": "stream",
     "text": [
      "인덱스와 나눌 숫자를 입력하세요: -1 0\n",
      "숫자를 0으로 나눌 수 없습니다\n"
     ]
    }
   ],
   "source": [
    "try:\n",
    "    index, x = map(int, input('인덱스와 나눌 숫자를 입력하세요: ').split())\n",
    "    print(y[index] / x)\n",
    "except ZeroDivisionError:\n",
    "    print('숫자를 0으로 나눌 수 없습니다')\n",
    "except IndexError:\n",
    "    print('잘못된 인덱스입니다')"
   ]
  },
  {
   "cell_type": "code",
   "execution_count": 9,
   "id": "d68a64dc",
   "metadata": {},
   "outputs": [
    {
     "name": "stdout",
     "output_type": "stream",
     "text": [
      "인덱스와 나눌 숫자를 입력하세요: 3 2\n",
      "잘못된 인덱스입니다\n"
     ]
    }
   ],
   "source": [
    "try:\n",
    "    index, x = map(int, input('인덱스와 나눌 숫자를 입력하세요: ').split())\n",
    "    print(y[index] / x)\n",
    "except ZeroDivisionError:\n",
    "    print('숫자를 0으로 나눌 수 없습니다')\n",
    "except IndexError:\n",
    "    print('잘못된 인덱스입니다')"
   ]
  },
  {
   "cell_type": "code",
   "execution_count": 10,
   "id": "a850ee3f",
   "metadata": {},
   "outputs": [
    {
     "name": "stdout",
     "output_type": "stream",
     "text": [
      "인덱스와 나눌 숫자를 입력하세요: 3 0\n",
      "잘못된 인덱스입니다 list index out of range\n"
     ]
    }
   ],
   "source": [
    "try:\n",
    "    index, x = map(int, input('인덱스와 나눌 숫자를 입력하세요: ').split())\n",
    "    print(y[index] / x)\n",
    "except ZeroDivisionError as e:\n",
    "    print('숫자를 0으로 나눌 수 없습니다', e)\n",
    "except IndexError as e:\n",
    "    print('잘못된 인덱스입니다', e)"
   ]
  },
  {
   "cell_type": "code",
   "execution_count": 13,
   "id": "da5a8ce6",
   "metadata": {},
   "outputs": [
    {
     "name": "stdout",
     "output_type": "stream",
     "text": [
      "나눌 숫자를 입력하세요: 1\n",
      "10.0\n"
     ]
    }
   ],
   "source": [
    "try:\n",
    "    x = int(input('나눌 숫자를 입력하세요: '))\n",
    "    y = 10 / x\n",
    "except ZeroDivisionError:\n",
    "    print('숫자를 0으로 나눌 수 없습니다')\n",
    "else:\n",
    "    print(y)"
   ]
  },
  {
   "cell_type": "code",
   "execution_count": 14,
   "id": "59708b26",
   "metadata": {},
   "outputs": [
    {
     "name": "stdout",
     "output_type": "stream",
     "text": [
      "나눌 숫자를 입력하세요: 0\n",
      "숫자를 0으로 나눌 수 없습니다\n"
     ]
    }
   ],
   "source": [
    "try:\n",
    "    x = int(input('나눌 숫자를 입력하세요: '))\n",
    "    y = 10 / x\n",
    "except ZeroDivisionError:\n",
    "    print('숫자를 0으로 나눌 수 없습니다')\n",
    "else:\n",
    "    print(y)"
   ]
  },
  {
   "cell_type": "code",
   "execution_count": 15,
   "id": "fd3e7afd",
   "metadata": {},
   "outputs": [
    {
     "name": "stdout",
     "output_type": "stream",
     "text": [
      "나눌 숫자를 입력하세요: 0\n",
      "숫자를 0으로 나눌 수 없습니다\n",
      "코드 실행이 끝났습니다\n"
     ]
    }
   ],
   "source": [
    "try:\n",
    "    x = int(input('나눌 숫자를 입력하세요: '))\n",
    "    y = 10 / x\n",
    "except ZeroDivisionError:\n",
    "    print('숫자를 0으로 나눌 수 없습니다')\n",
    "else:\n",
    "    print(y)\n",
    "finally:\n",
    "    print('코드 실행이 끝났습니다')"
   ]
  },
  {
   "cell_type": "code",
   "execution_count": 16,
   "id": "60198d4e",
   "metadata": {},
   "outputs": [
    {
     "name": "stdout",
     "output_type": "stream",
     "text": [
      "3의 배수를 입력하세요: 4\n",
      "예외가 발생했습니다 3의 배수가 아닙니다.\n"
     ]
    }
   ],
   "source": [
    "try:\n",
    "    x = int(input('3의 배수를 입력하세요: '))\n",
    "    if x % 3 != 0:\n",
    "        raise Exception('3의 배수가 아닙니다.')\n",
    "    print(x)\n",
    "except Exception as e:\n",
    "    print('예외가 발생했습니다', e)"
   ]
  },
  {
   "cell_type": "code",
   "execution_count": 17,
   "id": "de724582",
   "metadata": {},
   "outputs": [],
   "source": [
    "def three_multiple():\n",
    "    x = int(input('3의 배수를 입력하세요: '))\n",
    "    if x % 3 != 0:\n",
    "        raise Exception('3의 배수가 아닙니다.')\n",
    "    print(x)"
   ]
  },
  {
   "cell_type": "code",
   "execution_count": 18,
   "id": "8d1d3f28",
   "metadata": {},
   "outputs": [
    {
     "name": "stdout",
     "output_type": "stream",
     "text": [
      "3의 배수를 입력하세요: 5\n",
      "예외가 발생했습니다 3의 배수가 아닙니다.\n"
     ]
    }
   ],
   "source": [
    "try:   \n",
    "    three_multiple() \n",
    "except Exception as e:\n",
    "    print('예외가 발생했습니다', e)"
   ]
  },
  {
   "cell_type": "code",
   "execution_count": 19,
   "id": "ff567431",
   "metadata": {},
   "outputs": [
    {
     "name": "stdout",
     "output_type": "stream",
     "text": [
      "3의 배수를 입력하세요: 5\n"
     ]
    },
    {
     "ename": "Exception",
     "evalue": "3의 배수가 아닙니다.",
     "output_type": "error",
     "traceback": [
      "\u001b[0;31m---------------------------------------------------------------------------\u001b[0m",
      "\u001b[0;31mException\u001b[0m                                 Traceback (most recent call last)",
      "Input \u001b[0;32mIn [19]\u001b[0m, in \u001b[0;36m<module>\u001b[0;34m\u001b[0m\n\u001b[0;32m----> 1\u001b[0m \u001b[43mthree_multiple\u001b[49m\u001b[43m(\u001b[49m\u001b[43m)\u001b[49m\n",
      "Input \u001b[0;32mIn [17]\u001b[0m, in \u001b[0;36mthree_multiple\u001b[0;34m()\u001b[0m\n\u001b[1;32m      2\u001b[0m x \u001b[38;5;241m=\u001b[39m \u001b[38;5;28mint\u001b[39m(\u001b[38;5;28minput\u001b[39m(\u001b[38;5;124m'\u001b[39m\u001b[38;5;124m3의 배수를 입력하세요: \u001b[39m\u001b[38;5;124m'\u001b[39m))\n\u001b[1;32m      3\u001b[0m \u001b[38;5;28;01mif\u001b[39;00m x \u001b[38;5;241m%\u001b[39m \u001b[38;5;241m3\u001b[39m \u001b[38;5;241m!=\u001b[39m \u001b[38;5;241m0\u001b[39m:\n\u001b[0;32m----> 4\u001b[0m     \u001b[38;5;28;01mraise\u001b[39;00m \u001b[38;5;167;01mException\u001b[39;00m(\u001b[38;5;124m'\u001b[39m\u001b[38;5;124m3의 배수가 아닙니다.\u001b[39m\u001b[38;5;124m'\u001b[39m)\n\u001b[1;32m      5\u001b[0m \u001b[38;5;28mprint\u001b[39m(x)\n",
      "\u001b[0;31mException\u001b[0m: 3의 배수가 아닙니다."
     ]
    }
   ],
   "source": [
    "three_multiple() "
   ]
  },
  {
   "cell_type": "code",
   "execution_count": 20,
   "id": "0f086fc1",
   "metadata": {},
   "outputs": [],
   "source": [
    "def three_multiple():\n",
    "    try:\n",
    "        x = int(input('3의 배수를 입력하세요: '))\n",
    "        if x % 3 != 0:\n",
    "            raise Exception('3의 배수가 아닙니다.')\n",
    "        print(x)\n",
    "    except Exception as e:\n",
    "        print('three_multiple 함수에서 예외가 발생했습니다', e)\n",
    "        raise"
   ]
  },
  {
   "cell_type": "code",
   "execution_count": 21,
   "id": "80d5848e",
   "metadata": {},
   "outputs": [
    {
     "name": "stdout",
     "output_type": "stream",
     "text": [
      "3의 배수를 입력하세요: 5\n",
      "three_multiple 함수에서 예외가 발생했습니다 3의 배수가 아닙니다.\n",
      "스크립트 파일에서 예외가 발생했습니다 3의 배수가 아닙니다.\n"
     ]
    }
   ],
   "source": [
    "try:   \n",
    "    three_multiple() \n",
    "except Exception as e:\n",
    "    print('스크립트 파일에서 예외가 발생했습니다', e)"
   ]
  },
  {
   "cell_type": "code",
   "execution_count": 22,
   "id": "16e227e8",
   "metadata": {},
   "outputs": [],
   "source": [
    "def three_multiple():\n",
    "    try:\n",
    "        x = int(input('3의 배수를 입력하세요: '))\n",
    "        if x % 3 != 0:\n",
    "            raise Exception('3의 배수가 아닙니다.')\n",
    "        print(x)\n",
    "    except Exception as e:\n",
    "        print('three_multiple 함수에서 예외가 발생했습니다', e)\n",
    "        raise RuntimeError('three_multiple 함수에서 예외가 발생했습니다')"
   ]
  },
  {
   "cell_type": "code",
   "execution_count": 23,
   "id": "66e358d8",
   "metadata": {},
   "outputs": [
    {
     "name": "stdout",
     "output_type": "stream",
     "text": [
      "3의 배수를 입력하세요: 5\n",
      "three_multiple 함수에서 예외가 발생했습니다 3의 배수가 아닙니다.\n",
      "스크립트 파일에서 예외가 발생했습니다 three_multiple 함수에서 예외가 발생했습니다\n"
     ]
    }
   ],
   "source": [
    "try:   \n",
    "    three_multiple() \n",
    "except Exception as e:\n",
    "    print('스크립트 파일에서 예외가 발생했습니다', e)"
   ]
  },
  {
   "cell_type": "code",
   "execution_count": 24,
   "id": "b23608ae",
   "metadata": {},
   "outputs": [],
   "source": [
    "class NotThreeMultipleError(Exception):\n",
    "    def __init__(self):\n",
    "        super().__init__('3의 배수가 아닙니다.')"
   ]
  },
  {
   "cell_type": "code",
   "execution_count": 25,
   "id": "77ef2300",
   "metadata": {},
   "outputs": [],
   "source": [
    "def three_multiple():\n",
    "    try:\n",
    "        x = int(input('3의 배수를 입력하세요: '))\n",
    "        if x % 3 != 0:\n",
    "            raise NotThreeMultipleError\n",
    "        print(x)\n",
    "    except Exception as e:\n",
    "        print('예외가 발생했습니다', e)"
   ]
  },
  {
   "cell_type": "code",
   "execution_count": 26,
   "id": "a36d26d4",
   "metadata": {},
   "outputs": [
    {
     "name": "stdout",
     "output_type": "stream",
     "text": [
      "3의 배수를 입력하세요: 5\n",
      "예외가 발생했습니다 3의 배수가 아닙니다.\n"
     ]
    }
   ],
   "source": [
    "three_multiple()"
   ]
  },
  {
   "cell_type": "code",
   "execution_count": 27,
   "id": "42a38277",
   "metadata": {},
   "outputs": [],
   "source": [
    "class NotThreeMultipleError(Exception):\n",
    "    pass"
   ]
  },
  {
   "cell_type": "code",
   "execution_count": 28,
   "id": "f71fcd0d",
   "metadata": {},
   "outputs": [],
   "source": [
    "def three_multiple():\n",
    "    try:\n",
    "        x = int(input('3의 배수를 입력하세요: '))\n",
    "        if x % 3 != 0:\n",
    "            raise NotThreeMultipleError('3의 배수가 아닙니다')\n",
    "        print(x)\n",
    "    except Exception as e:\n",
    "        print('예외가 발생했습니다', e)"
   ]
  },
  {
   "cell_type": "code",
   "execution_count": 29,
   "id": "e1a20a2a",
   "metadata": {},
   "outputs": [
    {
     "name": "stdout",
     "output_type": "stream",
     "text": [
      "3의 배수를 입력하세요: 5\n",
      "예외가 발생했습니다 3의 배수가 아닙니다\n"
     ]
    }
   ],
   "source": [
    "three_multiple()"
   ]
  },
  {
   "cell_type": "code",
   "execution_count": null,
   "id": "81666544",
   "metadata": {},
   "outputs": [],
   "source": []
  }
 ],
 "metadata": {
  "kernelspec": {
   "display_name": "Python 3 (ipykernel)",
   "language": "python",
   "name": "python3"
  },
  "language_info": {
   "codemirror_mode": {
    "name": "ipython",
    "version": 3
   },
   "file_extension": ".py",
   "mimetype": "text/x-python",
   "name": "python",
   "nbconvert_exporter": "python",
   "pygments_lexer": "ipython3",
   "version": "3.9.8"
  }
 },
 "nbformat": 4,
 "nbformat_minor": 5
}
