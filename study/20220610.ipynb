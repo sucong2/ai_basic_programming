{
 "cells": [
  {
   "cell_type": "code",
   "execution_count": 8,
   "id": "0b327194",
   "metadata": {},
   "outputs": [],
   "source": [
    "class Person:\n",
    "    def greeting(self):\n",
    "        print('안녕하세요')\n",
    "\n",
    "class PersonList:\n",
    "    def __init__(self):\n",
    "        self.person_list = []\n",
    "    def append_person(self, person):\n",
    "        self.person_list.append(person)"
   ]
  },
  {
   "cell_type": "code",
   "execution_count": 9,
   "id": "5f7df665",
   "metadata": {},
   "outputs": [],
   "source": [
    "james = Person()"
   ]
  },
  {
   "cell_type": "code",
   "execution_count": 10,
   "id": "8047f905",
   "metadata": {},
   "outputs": [],
   "source": [
    "plist = PersonList()"
   ]
  },
  {
   "cell_type": "code",
   "execution_count": 11,
   "id": "dc3dcd50",
   "metadata": {},
   "outputs": [
    {
     "name": "stdout",
     "output_type": "stream",
     "text": [
      "[<__main__.Person object at 0x0000028B4BD00760>]\n"
     ]
    }
   ],
   "source": [
    "plist.append_person(james)"
   ]
  },
  {
   "cell_type": "code",
   "execution_count": 7,
   "id": "169b2a3b",
   "metadata": {},
   "outputs": [
    {
     "name": "stdout",
     "output_type": "stream",
     "text": [
      "[<__main__.Person object at 0x0000028B4BD0DD90>]\n"
     ]
    }
   ],
   "source": [
    "print(plist.person_list)"
   ]
  },
  {
   "cell_type": "code",
   "execution_count": 12,
   "id": "7f35fcfb",
   "metadata": {},
   "outputs": [],
   "source": [
    "class Person:\n",
    "    def __init__(self):\n",
    "        print('Person init')\n",
    "        self.hello = '안녕하세요'"
   ]
  },
  {
   "cell_type": "code",
   "execution_count": 13,
   "id": "cd8b1a77",
   "metadata": {},
   "outputs": [],
   "source": [
    "class Student(Person):\n",
    "    def __init__(self):\n",
    "        print('Student init')\n",
    "        super().__init__()\n",
    "        self.school = '금오공대'"
   ]
  },
  {
   "cell_type": "code",
   "execution_count": 14,
   "id": "5548dc7a",
   "metadata": {},
   "outputs": [
    {
     "name": "stdout",
     "output_type": "stream",
     "text": [
      "Student init\n",
      "Person init\n"
     ]
    }
   ],
   "source": [
    "james = Student()"
   ]
  },
  {
   "cell_type": "code",
   "execution_count": 15,
   "id": "5e749b61",
   "metadata": {},
   "outputs": [
    {
     "data": {
      "text/plain": [
       "'금오공대'"
      ]
     },
     "execution_count": 15,
     "metadata": {},
     "output_type": "execute_result"
    }
   ],
   "source": [
    "james.school"
   ]
  },
  {
   "cell_type": "code",
   "execution_count": 16,
   "id": "98796369",
   "metadata": {},
   "outputs": [
    {
     "data": {
      "text/plain": [
       "'안녕하세요'"
      ]
     },
     "execution_count": 16,
     "metadata": {},
     "output_type": "execute_result"
    }
   ],
   "source": [
    "james.hello"
   ]
  },
  {
   "cell_type": "code",
   "execution_count": 17,
   "id": "e8e0e5fb",
   "metadata": {},
   "outputs": [],
   "source": [
    "class Person:\n",
    "    def __init__(self):\n",
    "        print('Person init')\n",
    "        self.hello = '안녕하세요'\n",
    "\n",
    "class Student(Person):\n",
    "    def __init__(self):\n",
    "        print('Student init')\n",
    "        super().__init__()\n",
    "        self.school = '금오공대'\n",
    "        self.hello  = '안녕'"
   ]
  },
  {
   "cell_type": "code",
   "execution_count": 18,
   "id": "454f7a0b",
   "metadata": {},
   "outputs": [
    {
     "name": "stdout",
     "output_type": "stream",
     "text": [
      "Student init\n",
      "Person init\n"
     ]
    }
   ],
   "source": [
    "james = Student()"
   ]
  },
  {
   "cell_type": "code",
   "execution_count": 19,
   "id": "f3d2fc50",
   "metadata": {},
   "outputs": [
    {
     "data": {
      "text/plain": [
       "'안녕'"
      ]
     },
     "execution_count": 19,
     "metadata": {},
     "output_type": "execute_result"
    }
   ],
   "source": [
    "james.hello"
   ]
  },
  {
   "cell_type": "code",
   "execution_count": 20,
   "id": "e6e526a2",
   "metadata": {},
   "outputs": [],
   "source": [
    "class Person:\n",
    "    def __init__(self):\n",
    "        print('Person init')\n",
    "        self.hello = '안녕하세요'\n",
    "\n",
    "class Student(Person):\n",
    "    pass"
   ]
  },
  {
   "cell_type": "code",
   "execution_count": 21,
   "id": "fced09f6",
   "metadata": {},
   "outputs": [
    {
     "name": "stdout",
     "output_type": "stream",
     "text": [
      "Person init\n"
     ]
    }
   ],
   "source": [
    "james = Student()"
   ]
  },
  {
   "cell_type": "code",
   "execution_count": 22,
   "id": "f6abdafb",
   "metadata": {},
   "outputs": [
    {
     "data": {
      "text/plain": [
       "'안녕하세요'"
      ]
     },
     "execution_count": 22,
     "metadata": {},
     "output_type": "execute_result"
    }
   ],
   "source": [
    "james.hello"
   ]
  },
  {
   "cell_type": "code",
   "execution_count": 26,
   "id": "4fa1e6f1",
   "metadata": {},
   "outputs": [],
   "source": [
    "class Person:\n",
    "    def greeting(self):\n",
    "        print('안녕하세요')\n",
    "\n",
    "class Student(Person):\n",
    "    def greeting2(self):\n",
    "        print('안녕')"
   ]
  },
  {
   "cell_type": "code",
   "execution_count": 27,
   "id": "a61d7891",
   "metadata": {},
   "outputs": [],
   "source": [
    "james = Student()"
   ]
  },
  {
   "cell_type": "code",
   "execution_count": 28,
   "id": "169cb626",
   "metadata": {},
   "outputs": [
    {
     "name": "stdout",
     "output_type": "stream",
     "text": [
      "안녕하세요\n"
     ]
    }
   ],
   "source": [
    "james.greeting()"
   ]
  },
  {
   "cell_type": "code",
   "execution_count": 29,
   "id": "a1c57f62",
   "metadata": {},
   "outputs": [
    {
     "name": "stdout",
     "output_type": "stream",
     "text": [
      "안녕\n"
     ]
    }
   ],
   "source": [
    "james.greeting2()"
   ]
  },
  {
   "cell_type": "code",
   "execution_count": 30,
   "id": "03921b55",
   "metadata": {},
   "outputs": [],
   "source": [
    "class Person:\n",
    "    def greeting(self):\n",
    "        print('안녕하세요')\n",
    "\n",
    "class Student(Person):\n",
    "    def greeting(self):\n",
    "        super().greeting()\n",
    "        print('안녕')"
   ]
  },
  {
   "cell_type": "code",
   "execution_count": 31,
   "id": "2e1f64d5",
   "metadata": {},
   "outputs": [],
   "source": [
    "james = Student()"
   ]
  },
  {
   "cell_type": "code",
   "execution_count": 32,
   "id": "6b297e27",
   "metadata": {},
   "outputs": [
    {
     "name": "stdout",
     "output_type": "stream",
     "text": [
      "안녕하세요\n",
      "안녕\n"
     ]
    }
   ],
   "source": [
    "james.greeting()"
   ]
  },
  {
   "cell_type": "code",
   "execution_count": 33,
   "id": "1ca1c71a",
   "metadata": {},
   "outputs": [],
   "source": [
    "class Person:\n",
    "    def greeting(self):\n",
    "        print('안녕하세요')\n",
    "\n",
    "class University:\n",
    "    def manage_credit(self):\n",
    "        print('학점 관리')\n",
    "        \n",
    "class Undergraduate(Person, University):\n",
    "    def study(self):\n",
    "        print('공부 하기')"
   ]
  },
  {
   "cell_type": "code",
   "execution_count": 34,
   "id": "e1f91606",
   "metadata": {},
   "outputs": [],
   "source": [
    "james = Undergraduate()"
   ]
  },
  {
   "cell_type": "code",
   "execution_count": 35,
   "id": "8dd7c19e",
   "metadata": {},
   "outputs": [
    {
     "name": "stdout",
     "output_type": "stream",
     "text": [
      "공부 하기\n"
     ]
    }
   ],
   "source": [
    "james.study()"
   ]
  },
  {
   "cell_type": "code",
   "execution_count": 36,
   "id": "ca0f57fe",
   "metadata": {},
   "outputs": [
    {
     "name": "stdout",
     "output_type": "stream",
     "text": [
      "안녕하세요\n"
     ]
    }
   ],
   "source": [
    "james.greeting()"
   ]
  },
  {
   "cell_type": "code",
   "execution_count": 37,
   "id": "73f9c907",
   "metadata": {},
   "outputs": [
    {
     "name": "stdout",
     "output_type": "stream",
     "text": [
      "학점 관리\n"
     ]
    }
   ],
   "source": [
    "james.manage_credit()"
   ]
  },
  {
   "cell_type": "code",
   "execution_count": null,
   "id": "07e82bb6",
   "metadata": {},
   "outputs": [],
   "source": []
  }
 ],
 "metadata": {
  "kernelspec": {
   "display_name": "Python 3 (ipykernel)",
   "language": "python",
   "name": "python3"
  },
  "language_info": {
   "codemirror_mode": {
    "name": "ipython",
    "version": 3
   },
   "file_extension": ".py",
   "mimetype": "text/x-python",
   "name": "python",
   "nbconvert_exporter": "python",
   "pygments_lexer": "ipython3",
   "version": "3.9.7"
  }
 },
 "nbformat": 4,
 "nbformat_minor": 5
}
