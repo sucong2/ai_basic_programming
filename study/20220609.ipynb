{
 "cells": [
  {
   "cell_type": "code",
   "execution_count": 1,
   "id": "a16454b1",
   "metadata": {},
   "outputs": [],
   "source": [
    "class Person:\n",
    "    def greeting(self):\n",
    "        print('Hello')"
   ]
  },
  {
   "cell_type": "code",
   "execution_count": 2,
   "id": "9970fe78",
   "metadata": {},
   "outputs": [],
   "source": [
    "james = Person()"
   ]
  },
  {
   "cell_type": "code",
   "execution_count": 3,
   "id": "56964ae1",
   "metadata": {},
   "outputs": [
    {
     "data": {
      "text/plain": [
       "__main__.Person"
      ]
     },
     "execution_count": 3,
     "metadata": {},
     "output_type": "execute_result"
    }
   ],
   "source": [
    "type(james)"
   ]
  },
  {
   "cell_type": "code",
   "execution_count": 4,
   "id": "bd09537b",
   "metadata": {},
   "outputs": [
    {
     "name": "stdout",
     "output_type": "stream",
     "text": [
      "Hello\n"
     ]
    }
   ],
   "source": [
    "james.greeting()"
   ]
  },
  {
   "cell_type": "code",
   "execution_count": 5,
   "id": "b780f6b8",
   "metadata": {},
   "outputs": [],
   "source": [
    "class Person:\n",
    "    def __init__(self):\n",
    "        self.hello = '안녕하세요'\n",
    "        \n",
    "    def greeting(self):\n",
    "        print(self.hello)"
   ]
  },
  {
   "cell_type": "code",
   "execution_count": 6,
   "id": "9eb7921a",
   "metadata": {},
   "outputs": [],
   "source": [
    "cheolsu = Person()"
   ]
  },
  {
   "cell_type": "code",
   "execution_count": 7,
   "id": "c64155bb",
   "metadata": {},
   "outputs": [
    {
     "name": "stdout",
     "output_type": "stream",
     "text": [
      "안녕하세요\n"
     ]
    }
   ],
   "source": [
    "cheolsu.greeting()"
   ]
  },
  {
   "cell_type": "code",
   "execution_count": 8,
   "id": "01fdd5a4",
   "metadata": {},
   "outputs": [
    {
     "data": {
      "text/plain": [
       "'안녕하세요'"
      ]
     },
     "execution_count": 8,
     "metadata": {},
     "output_type": "execute_result"
    }
   ],
   "source": [
    "cheolsu.hello"
   ]
  },
  {
   "cell_type": "code",
   "execution_count": 9,
   "id": "61c9d78a",
   "metadata": {},
   "outputs": [],
   "source": [
    "class Person:\n",
    "    def __init__(self, name, age):\n",
    "        self.hello = '안녕하세요'\n",
    "        self.name = name\n",
    "        self.age  = age\n",
    "        \n",
    "    def greeting(self):\n",
    "        print('{0} 저는 {1}입니다.'.format(self.hello, self.name))\n",
    "        print('제 나이는 {0}살입니다.'.format(self.age))"
   ]
  },
  {
   "cell_type": "code",
   "execution_count": 11,
   "id": "8689c2e9",
   "metadata": {},
   "outputs": [],
   "source": [
    "cheolsu = Person('철수', 20)"
   ]
  },
  {
   "cell_type": "code",
   "execution_count": 12,
   "id": "777a8167",
   "metadata": {},
   "outputs": [
    {
     "name": "stdout",
     "output_type": "stream",
     "text": [
      "안녕하세요 저는 철수입니다.\n",
      "제 나이는 20살입니다.\n"
     ]
    }
   ],
   "source": [
    "cheolsu.greeting()"
   ]
  },
  {
   "cell_type": "code",
   "execution_count": 13,
   "id": "57715209",
   "metadata": {},
   "outputs": [
    {
     "data": {
      "text/plain": [
       "20"
      ]
     },
     "execution_count": 13,
     "metadata": {},
     "output_type": "execute_result"
    }
   ],
   "source": [
    "cheolsu.age"
   ]
  },
  {
   "cell_type": "code",
   "execution_count": 14,
   "id": "8d8296fc",
   "metadata": {},
   "outputs": [
    {
     "data": {
      "text/plain": [
       "'철수'"
      ]
     },
     "execution_count": 14,
     "metadata": {},
     "output_type": "execute_result"
    }
   ],
   "source": [
    "cheolsu.name"
   ]
  },
  {
   "cell_type": "code",
   "execution_count": 15,
   "id": "37378123",
   "metadata": {},
   "outputs": [],
   "source": [
    "class Person:\n",
    "    def __init__(self, name, age, wallet):\n",
    "        self.hello = '안녕하세요'\n",
    "        self.name = name\n",
    "        self.age  = age\n",
    "        self.__wallet = wallet\n",
    "        \n",
    "    def greeting(self):\n",
    "        print('{0} 저는 {1}입니다.'.format(self.hello, self.name))\n",
    "        print('제 나이는 {0}살입니다.'.format(self.age))"
   ]
  },
  {
   "cell_type": "code",
   "execution_count": 16,
   "id": "a189f4eb",
   "metadata": {},
   "outputs": [],
   "source": [
    "maria = Person('Maria', 20, 10000)"
   ]
  },
  {
   "cell_type": "code",
   "execution_count": 17,
   "id": "7e3ffd84",
   "metadata": {},
   "outputs": [
    {
     "data": {
      "text/plain": [
       "20"
      ]
     },
     "execution_count": 17,
     "metadata": {},
     "output_type": "execute_result"
    }
   ],
   "source": [
    "maria.age"
   ]
  },
  {
   "cell_type": "code",
   "execution_count": 19,
   "id": "fe2ed0af",
   "metadata": {},
   "outputs": [
    {
     "ename": "AttributeError",
     "evalue": "'Person' object has no attribute '__wallet'",
     "output_type": "error",
     "traceback": [
      "\u001b[1;31m---------------------------------------------------------------------------\u001b[0m",
      "\u001b[1;31mAttributeError\u001b[0m                            Traceback (most recent call last)",
      "\u001b[1;32m~\\AppData\\Local\\Temp/ipykernel_7148/3241266524.py\u001b[0m in \u001b[0;36m<module>\u001b[1;34m\u001b[0m\n\u001b[1;32m----> 1\u001b[1;33m \u001b[0mmaria\u001b[0m\u001b[1;33m.\u001b[0m\u001b[0m__wallet\u001b[0m \u001b[1;33m-=\u001b[0m \u001b[1;36m5000\u001b[0m\u001b[1;33m\u001b[0m\u001b[1;33m\u001b[0m\u001b[0m\n\u001b[0m",
      "\u001b[1;31mAttributeError\u001b[0m: 'Person' object has no attribute '__wallet'"
     ]
    }
   ],
   "source": [
    "maria.__wallet -= 5000"
   ]
  },
  {
   "cell_type": "code",
   "execution_count": 20,
   "id": "5fb08df0",
   "metadata": {},
   "outputs": [],
   "source": [
    "class Person:\n",
    "    def __init__(self, name, age, wallet):\n",
    "        self.hello = '안녕하세요'\n",
    "        self.name = name\n",
    "        self.age  = age\n",
    "        self.__wallet = wallet\n",
    "        \n",
    "    def greeting(self):\n",
    "        print('{0} 저는 {1}입니다.'.format(self.hello, self.name))\n",
    "        print('제 나이는 {0}살입니다.'.format(self.age))\n",
    "        \n",
    "    def pay(self, amount):\n",
    "        self.__wallet -= amount\n",
    "        print('이제 {0}원 남았습니다'.format(self.__wallet))"
   ]
  },
  {
   "cell_type": "code",
   "execution_count": 21,
   "id": "ce52121f",
   "metadata": {},
   "outputs": [],
   "source": [
    "maria = Person('Maria', 20, 10000)"
   ]
  },
  {
   "cell_type": "code",
   "execution_count": 22,
   "id": "c5111098",
   "metadata": {},
   "outputs": [
    {
     "name": "stdout",
     "output_type": "stream",
     "text": [
      "이제 5000원 남았습니다\n"
     ]
    }
   ],
   "source": [
    "maria.pay(5000)"
   ]
  },
  {
   "cell_type": "code",
   "execution_count": 23,
   "id": "efc80a63",
   "metadata": {},
   "outputs": [],
   "source": [
    "maria.age = 30"
   ]
  },
  {
   "cell_type": "code",
   "execution_count": 24,
   "id": "0acbbe30",
   "metadata": {},
   "outputs": [
    {
     "name": "stdout",
     "output_type": "stream",
     "text": [
      "안녕하세요 저는 Maria입니다.\n",
      "제 나이는 30살입니다.\n"
     ]
    }
   ],
   "source": [
    "maria.greeting()"
   ]
  },
  {
   "cell_type": "code",
   "execution_count": 25,
   "id": "e9f07201",
   "metadata": {},
   "outputs": [],
   "source": [
    "class Person:\n",
    "    def __init__(self, name, age, wallet):\n",
    "        self.hello = '안녕하세요'\n",
    "        self.name = name\n",
    "        self.age  = age\n",
    "        self.__wallet = wallet\n",
    "        \n",
    "    def greeting(self):\n",
    "        print('{0} 저는 {1}입니다.'.format(self.hello, self.name))\n",
    "        print('제 나이는 {0}살입니다.'.format(self.age))\n",
    "        \n",
    "    def pay(self, amount):\n",
    "        if self.__wallet >= amount:\n",
    "            self.__wallet -= amount\n",
    "            print('이제 {0}원 남았습니다'.format(self.__wallet))\n",
    "        else:\n",
    "            print('돈이 모자랍니다')"
   ]
  },
  {
   "cell_type": "code",
   "execution_count": 26,
   "id": "0c268c47",
   "metadata": {},
   "outputs": [],
   "source": [
    "maria = Person('Maria', 20, 10000)"
   ]
  },
  {
   "cell_type": "code",
   "execution_count": 27,
   "id": "daef41bd",
   "metadata": {},
   "outputs": [
    {
     "name": "stdout",
     "output_type": "stream",
     "text": [
      "돈이 모자랍니다\n"
     ]
    }
   ],
   "source": [
    "maria.pay(20000)"
   ]
  },
  {
   "cell_type": "code",
   "execution_count": 28,
   "id": "cc48c48d",
   "metadata": {},
   "outputs": [
    {
     "ename": "AttributeError",
     "evalue": "'Person' object has no attribute '__wallet'",
     "output_type": "error",
     "traceback": [
      "\u001b[1;31m---------------------------------------------------------------------------\u001b[0m",
      "\u001b[1;31mAttributeError\u001b[0m                            Traceback (most recent call last)",
      "\u001b[1;32m~\\AppData\\Local\\Temp/ipykernel_7148/1121890231.py\u001b[0m in \u001b[0;36m<module>\u001b[1;34m\u001b[0m\n\u001b[1;32m----> 1\u001b[1;33m \u001b[0mmaria\u001b[0m\u001b[1;33m.\u001b[0m\u001b[0m__wallet\u001b[0m\u001b[1;33m\u001b[0m\u001b[1;33m\u001b[0m\u001b[0m\n\u001b[0m",
      "\u001b[1;31mAttributeError\u001b[0m: 'Person' object has no attribute '__wallet'"
     ]
    }
   ],
   "source": [
    "maria.__wallet"
   ]
  },
  {
   "cell_type": "code",
   "execution_count": 29,
   "id": "c128332d",
   "metadata": {},
   "outputs": [],
   "source": [
    "class Person:\n",
    "    bag = []\n",
    "    \n",
    "    def put_bag(self, stuff):\n",
    "        self.bag.append(stuff)"
   ]
  },
  {
   "cell_type": "code",
   "execution_count": 30,
   "id": "9c3155e5",
   "metadata": {},
   "outputs": [],
   "source": [
    "james = Person()"
   ]
  },
  {
   "cell_type": "code",
   "execution_count": 31,
   "id": "dd545991",
   "metadata": {},
   "outputs": [],
   "source": [
    "james.put_bag('책')"
   ]
  },
  {
   "cell_type": "code",
   "execution_count": 32,
   "id": "54278fcc",
   "metadata": {},
   "outputs": [],
   "source": [
    "maria = Person()"
   ]
  },
  {
   "cell_type": "code",
   "execution_count": 33,
   "id": "a94d1200",
   "metadata": {},
   "outputs": [],
   "source": [
    "maria.put_bag('열쇠')"
   ]
  },
  {
   "cell_type": "code",
   "execution_count": 34,
   "id": "2305404e",
   "metadata": {},
   "outputs": [
    {
     "data": {
      "text/plain": [
       "['책', '열쇠']"
      ]
     },
     "execution_count": 34,
     "metadata": {},
     "output_type": "execute_result"
    }
   ],
   "source": [
    "james.bag"
   ]
  },
  {
   "cell_type": "code",
   "execution_count": 35,
   "id": "f8ae89f4",
   "metadata": {},
   "outputs": [
    {
     "data": {
      "text/plain": [
       "['책', '열쇠']"
      ]
     },
     "execution_count": 35,
     "metadata": {},
     "output_type": "execute_result"
    }
   ],
   "source": [
    "maria.bag"
   ]
  },
  {
   "cell_type": "code",
   "execution_count": 37,
   "id": "68b7214d",
   "metadata": {},
   "outputs": [],
   "source": [
    "class Person:\n",
    "    def __init__(self):\n",
    "        self.bag = []\n",
    "    \n",
    "    def put_bag(self, stuff):\n",
    "        self.bag.append(stuff)"
   ]
  },
  {
   "cell_type": "code",
   "execution_count": 38,
   "id": "68b00f01",
   "metadata": {},
   "outputs": [],
   "source": [
    "james = Person()"
   ]
  },
  {
   "cell_type": "code",
   "execution_count": 39,
   "id": "c5e5f6a6",
   "metadata": {},
   "outputs": [],
   "source": [
    "maria = Person()"
   ]
  },
  {
   "cell_type": "code",
   "execution_count": 40,
   "id": "53d80fba",
   "metadata": {},
   "outputs": [],
   "source": [
    "james.put_bag('책')\n",
    "maria.put_bag('열쇠')"
   ]
  },
  {
   "cell_type": "code",
   "execution_count": 41,
   "id": "b084f5df",
   "metadata": {},
   "outputs": [
    {
     "data": {
      "text/plain": [
       "['책']"
      ]
     },
     "execution_count": 41,
     "metadata": {},
     "output_type": "execute_result"
    }
   ],
   "source": [
    "james.bag"
   ]
  },
  {
   "cell_type": "code",
   "execution_count": 42,
   "id": "bfc48a61",
   "metadata": {},
   "outputs": [
    {
     "data": {
      "text/plain": [
       "['열쇠']"
      ]
     },
     "execution_count": 42,
     "metadata": {},
     "output_type": "execute_result"
    }
   ],
   "source": [
    "maria.bag"
   ]
  },
  {
   "cell_type": "code",
   "execution_count": 44,
   "id": "d57e1fc0",
   "metadata": {},
   "outputs": [],
   "source": [
    "class Person:\n",
    "    bag = []\n",
    "    \n",
    "    def __init__(self):\n",
    "        self.bag = []\n",
    "        \n",
    "    def put_bag(self, stuff):\n",
    "        self.bag.append(stuff)"
   ]
  },
  {
   "cell_type": "code",
   "execution_count": 45,
   "id": "c0db6602",
   "metadata": {},
   "outputs": [],
   "source": [
    "james = Person()\n",
    "maria = Person()"
   ]
  },
  {
   "cell_type": "code",
   "execution_count": 46,
   "id": "bfb0fd76",
   "metadata": {},
   "outputs": [],
   "source": [
    "james.put_bag('책')\n",
    "maria.put_bag('열쇠')"
   ]
  },
  {
   "cell_type": "code",
   "execution_count": 47,
   "id": "604b79b1",
   "metadata": {},
   "outputs": [
    {
     "data": {
      "text/plain": [
       "['책']"
      ]
     },
     "execution_count": 47,
     "metadata": {},
     "output_type": "execute_result"
    }
   ],
   "source": [
    "james.bag"
   ]
  },
  {
   "cell_type": "code",
   "execution_count": 48,
   "id": "8f26717f",
   "metadata": {},
   "outputs": [
    {
     "data": {
      "text/plain": [
       "['열쇠']"
      ]
     },
     "execution_count": 48,
     "metadata": {},
     "output_type": "execute_result"
    }
   ],
   "source": [
    "maria.bag"
   ]
  },
  {
   "cell_type": "code",
   "execution_count": 49,
   "id": "a34f0fe0",
   "metadata": {},
   "outputs": [],
   "source": [
    "class Person:\n",
    "    bag = []\n",
    "    \n",
    "    def __init__(self):\n",
    "        self.bag = []\n",
    "        \n",
    "    def put_bag(self, stuff):\n",
    "        Person.bag.append(stuff)"
   ]
  },
  {
   "cell_type": "code",
   "execution_count": 50,
   "id": "34608a18",
   "metadata": {},
   "outputs": [],
   "source": [
    "james = Person()\n",
    "maria = Person()"
   ]
  },
  {
   "cell_type": "code",
   "execution_count": 51,
   "id": "69475476",
   "metadata": {},
   "outputs": [],
   "source": [
    "james.put_bag('책')\n",
    "maria.put_bag('열쇠')"
   ]
  },
  {
   "cell_type": "code",
   "execution_count": 52,
   "id": "7bcb9268",
   "metadata": {},
   "outputs": [
    {
     "data": {
      "text/plain": [
       "[]"
      ]
     },
     "execution_count": 52,
     "metadata": {},
     "output_type": "execute_result"
    }
   ],
   "source": [
    "james.bag"
   ]
  },
  {
   "cell_type": "code",
   "execution_count": 53,
   "id": "5cc18f57",
   "metadata": {},
   "outputs": [
    {
     "data": {
      "text/plain": [
       "['책', '열쇠']"
      ]
     },
     "execution_count": 53,
     "metadata": {},
     "output_type": "execute_result"
    }
   ],
   "source": [
    "Person.bag"
   ]
  },
  {
   "cell_type": "code",
   "execution_count": 54,
   "id": "e93c2078",
   "metadata": {},
   "outputs": [],
   "source": [
    "class Calc:\n",
    "    @staticmethod\n",
    "    def add(a, b):\n",
    "        print(a + b)\n",
    "        \n",
    "    @staticmethod\n",
    "    def mul(a, b):\n",
    "        print(a * b)        "
   ]
  },
  {
   "cell_type": "code",
   "execution_count": 55,
   "id": "29abdc23",
   "metadata": {},
   "outputs": [
    {
     "name": "stdout",
     "output_type": "stream",
     "text": [
      "30\n"
     ]
    }
   ],
   "source": [
    "Calc.add(10, 20)"
   ]
  },
  {
   "cell_type": "code",
   "execution_count": 56,
   "id": "68159e5d",
   "metadata": {},
   "outputs": [],
   "source": [
    "calc = Calc()"
   ]
  },
  {
   "cell_type": "code",
   "execution_count": 57,
   "id": "189d0443",
   "metadata": {},
   "outputs": [
    {
     "name": "stdout",
     "output_type": "stream",
     "text": [
      "30\n"
     ]
    }
   ],
   "source": [
    "calc.add(10, 20)"
   ]
  },
  {
   "cell_type": "code",
   "execution_count": 67,
   "id": "033f19f1",
   "metadata": {},
   "outputs": [],
   "source": [
    "class Person:\n",
    "    count = 0\n",
    "    \n",
    "    def __init__(self):\n",
    "        Person.count += 1\n",
    "      \n",
    "    @classmethod\n",
    "    def print_count(cls):\n",
    "        print('{0}명 생성되었습니다'.format(cls.count))\n",
    "        \n",
    "    @classmethod\n",
    "    def create(cls):\n",
    "        p = cls()\n",
    "        return p"
   ]
  },
  {
   "cell_type": "code",
   "execution_count": 68,
   "id": "714a5f4c",
   "metadata": {},
   "outputs": [],
   "source": [
    "james = Person()\n",
    "maria = Person()"
   ]
  },
  {
   "cell_type": "code",
   "execution_count": 69,
   "id": "5c05090e",
   "metadata": {},
   "outputs": [
    {
     "name": "stdout",
     "output_type": "stream",
     "text": [
      "2명 생성되었습니다\n"
     ]
    }
   ],
   "source": [
    "Person.print_count()"
   ]
  },
  {
   "cell_type": "code",
   "execution_count": 70,
   "id": "f6c6ad31",
   "metadata": {},
   "outputs": [],
   "source": [
    "peter = Person.create()"
   ]
  },
  {
   "cell_type": "code",
   "execution_count": null,
   "id": "e1f9db5d",
   "metadata": {},
   "outputs": [],
   "source": []
  }
 ],
 "metadata": {
  "kernelspec": {
   "display_name": "Python 3 (ipykernel)",
   "language": "python",
   "name": "python3"
  },
  "language_info": {
   "codemirror_mode": {
    "name": "ipython",
    "version": 3
   },
   "file_extension": ".py",
   "mimetype": "text/x-python",
   "name": "python",
   "nbconvert_exporter": "python",
   "pygments_lexer": "ipython3",
   "version": "3.9.7"
  }
 },
 "nbformat": 4,
 "nbformat_minor": 5
}
