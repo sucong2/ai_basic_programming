{
 "cells": [
  {
   "cell_type": "code",
   "execution_count": 1,
   "id": "86dd37be",
   "metadata": {},
   "outputs": [
    {
     "data": {
      "text/plain": [
       "'2.000000'"
      ]
     },
     "execution_count": 1,
     "metadata": {},
     "output_type": "execute_result"
    }
   ],
   "source": [
    "'%f' % 2"
   ]
  },
  {
   "cell_type": "code",
   "execution_count": 3,
   "id": "7fcdcbbb",
   "metadata": {},
   "outputs": [
    {
     "data": {
      "text/plain": [
       "'      2.00'"
      ]
     },
     "execution_count": 3,
     "metadata": {},
     "output_type": "execute_result"
    }
   ],
   "source": [
    "'%10.2f' % 2"
   ]
  },
  {
   "cell_type": "code",
   "execution_count": 4,
   "id": "21ddd5cc",
   "metadata": {},
   "outputs": [
    {
     "data": {
      "text/plain": [
       "'    python'"
      ]
     },
     "execution_count": 4,
     "metadata": {},
     "output_type": "execute_result"
    }
   ],
   "source": [
    "'%10s' % 'python'"
   ]
  },
  {
   "cell_type": "code",
   "execution_count": 5,
   "id": "54fd35b5",
   "metadata": {},
   "outputs": [
    {
     "data": {
      "text/plain": [
       "'python    '"
      ]
     },
     "execution_count": 5,
     "metadata": {},
     "output_type": "execute_result"
    }
   ],
   "source": [
    "'%-10s' % 'python'"
   ]
  },
  {
   "cell_type": "code",
   "execution_count": 6,
   "id": "e4dd3e86",
   "metadata": {},
   "outputs": [
    {
     "data": {
      "text/plain": [
       "'2.00      '"
      ]
     },
     "execution_count": 6,
     "metadata": {},
     "output_type": "execute_result"
    }
   ],
   "source": [
    "'%-10.2f' % 2"
   ]
  },
  {
   "cell_type": "code",
   "execution_count": 11,
   "id": "2b34a0c5",
   "metadata": {},
   "outputs": [
    {
     "data": {
      "text/plain": [
       "'This is May 26'"
      ]
     },
     "execution_count": 11,
     "metadata": {},
     "output_type": "execute_result"
    }
   ],
   "source": [
    "'This is %s %d' % ('May', 26)"
   ]
  },
  {
   "cell_type": "code",
   "execution_count": 9,
   "id": "f3ec19f8",
   "metadata": {},
   "outputs": [
    {
     "data": {
      "text/plain": [
       "'This is May'"
      ]
     },
     "execution_count": 9,
     "metadata": {},
     "output_type": "execute_result"
    }
   ],
   "source": [
    "'This is {0}'.format('May')"
   ]
  },
  {
   "cell_type": "code",
   "execution_count": 12,
   "id": "6528c91f",
   "metadata": {},
   "outputs": [
    {
     "data": {
      "text/plain": [
       "'This is 26 May'"
      ]
     },
     "execution_count": 12,
     "metadata": {},
     "output_type": "execute_result"
    }
   ],
   "source": [
    "'This is {1} {0}'.format('May', 26)"
   ]
  },
  {
   "cell_type": "code",
   "execution_count": 13,
   "id": "ecdd3405",
   "metadata": {},
   "outputs": [
    {
     "data": {
      "text/plain": [
       "'This is 26 May or May 26'"
      ]
     },
     "execution_count": 13,
     "metadata": {},
     "output_type": "execute_result"
    }
   ],
   "source": [
    "'This is {1} {0} or {0} {1}'.format('May', 26)"
   ]
  },
  {
   "cell_type": "code",
   "execution_count": 14,
   "id": "5e213cc3",
   "metadata": {},
   "outputs": [
    {
     "data": {
      "text/plain": [
       "'This is May 26'"
      ]
     },
     "execution_count": 14,
     "metadata": {},
     "output_type": "execute_result"
    }
   ],
   "source": [
    "'This is {} {}'.format('May', 26)"
   ]
  },
  {
   "cell_type": "code",
   "execution_count": 15,
   "id": "75eed52a",
   "metadata": {},
   "outputs": [
    {
     "data": {
      "text/plain": [
       "'This is May 26'"
      ]
     },
     "execution_count": 15,
     "metadata": {},
     "output_type": "execute_result"
    }
   ],
   "source": [
    "'This is {Month} {Day}'.format(Month='May', Day=26)"
   ]
  },
  {
   "cell_type": "code",
   "execution_count": 16,
   "id": "36c20dea",
   "metadata": {},
   "outputs": [
    {
     "data": {
      "text/plain": [
       "'This is 26 May '"
      ]
     },
     "execution_count": 16,
     "metadata": {},
     "output_type": "execute_result"
    }
   ],
   "source": [
    "'This is {Day} {Month} '.format(Month='May', Day=26)"
   ]
  },
  {
   "cell_type": "code",
   "execution_count": 17,
   "id": "7f6b7a6a",
   "metadata": {},
   "outputs": [],
   "source": [
    "month = 'May'\n",
    "day   = 26"
   ]
  },
  {
   "cell_type": "code",
   "execution_count": 18,
   "id": "dbbcb046",
   "metadata": {},
   "outputs": [
    {
     "data": {
      "text/plain": [
       "'This is May 26'"
      ]
     },
     "execution_count": 18,
     "metadata": {},
     "output_type": "execute_result"
    }
   ],
   "source": [
    "f'This is {month} {day}'"
   ]
  },
  {
   "cell_type": "code",
   "execution_count": 19,
   "id": "ea64dbfd",
   "metadata": {},
   "outputs": [
    {
     "data": {
      "text/plain": [
       "'This is May           26'"
      ]
     },
     "execution_count": 19,
     "metadata": {},
     "output_type": "execute_result"
    }
   ],
   "source": [
    "'This is {0:<10} {1:>5}'.format('May', 26)"
   ]
  },
  {
   "cell_type": "code",
   "execution_count": 20,
   "id": "1162adf1",
   "metadata": {},
   "outputs": [
    {
     "data": {
      "text/plain": [
       "'This is        May 26   '"
      ]
     },
     "execution_count": 20,
     "metadata": {},
     "output_type": "execute_result"
    }
   ],
   "source": [
    "'This is {0:>10} {1:<5}'.format('May', 26)"
   ]
  },
  {
   "cell_type": "code",
   "execution_count": 21,
   "id": "09a2ba2b",
   "metadata": {},
   "outputs": [
    {
     "data": {
      "text/plain": [
       "'This is        May 26   '"
      ]
     },
     "execution_count": 21,
     "metadata": {},
     "output_type": "execute_result"
    }
   ],
   "source": [
    "'This is {:>10} {:<5}'.format('May', 26)"
   ]
  },
  {
   "cell_type": "code",
   "execution_count": 22,
   "id": "09ec74a8",
   "metadata": {},
   "outputs": [
    {
     "data": {
      "text/plain": [
       "'This is        May 00026'"
      ]
     },
     "execution_count": 22,
     "metadata": {},
     "output_type": "execute_result"
    }
   ],
   "source": [
    "'This is {:>10} {:05d}'.format('May', 26)"
   ]
  },
  {
   "cell_type": "code",
   "execution_count": 23,
   "id": "bc692ad5",
   "metadata": {},
   "outputs": [
    {
     "data": {
      "text/plain": [
       "'This is        May    26'"
      ]
     },
     "execution_count": 23,
     "metadata": {},
     "output_type": "execute_result"
    }
   ],
   "source": [
    "'This is {:>10} {:5d}'.format('May', 26)"
   ]
  },
  {
   "cell_type": "code",
   "execution_count": 24,
   "id": "3d2b20d8",
   "metadata": {},
   "outputs": [
    {
     "data": {
      "text/plain": [
       "'This is        May    32'"
      ]
     },
     "execution_count": 24,
     "metadata": {},
     "output_type": "execute_result"
    }
   ],
   "source": [
    "'This is {:>10} {:5o}'.format('May', 26)"
   ]
  },
  {
   "cell_type": "code",
   "execution_count": 25,
   "id": "f6e884f7",
   "metadata": {},
   "outputs": [
    {
     "data": {
      "text/plain": [
       "'This is        May    1a'"
      ]
     },
     "execution_count": 25,
     "metadata": {},
     "output_type": "execute_result"
    }
   ],
   "source": [
    "'This is {:>10} {:5x}'.format('May', 26)"
   ]
  },
  {
   "cell_type": "code",
   "execution_count": 26,
   "id": "d4ce6ae1",
   "metadata": {},
   "outputs": [
    {
     "data": {
      "text/plain": [
       "'This is        May 11010'"
      ]
     },
     "execution_count": 26,
     "metadata": {},
     "output_type": "execute_result"
    }
   ],
   "source": [
    "'This is {:>10} {:5b}'.format('May', 26)"
   ]
  },
  {
   "cell_type": "code",
   "execution_count": 28,
   "id": "f74d0635",
   "metadata": {},
   "outputs": [
    {
     "data": {
      "text/plain": [
       "'This is        May 00026'"
      ]
     },
     "execution_count": 28,
     "metadata": {},
     "output_type": "execute_result"
    }
   ],
   "source": [
    "'This is {:>10} {:05}'.format('May', 26)"
   ]
  },
  {
   "cell_type": "code",
   "execution_count": 29,
   "id": "9f221e41",
   "metadata": {},
   "outputs": [
    {
     "data": {
      "text/plain": [
       "'pi is    3.14000'"
      ]
     },
     "execution_count": 29,
     "metadata": {},
     "output_type": "execute_result"
    }
   ],
   "source": [
    "'pi is {:10.5f}'.format(3.14)"
   ]
  },
  {
   "cell_type": "code",
   "execution_count": 30,
   "id": "e58b5911",
   "metadata": {},
   "outputs": [
    {
     "data": {
      "text/plain": [
       "'pi is 0003.14000'"
      ]
     },
     "execution_count": 30,
     "metadata": {},
     "output_type": "execute_result"
    }
   ],
   "source": [
    "'pi is {:010.5f}'.format(3.14)"
   ]
  },
  {
   "cell_type": "code",
   "execution_count": 31,
   "id": "f002da14",
   "metadata": {},
   "outputs": [
    {
     "data": {
      "text/plain": [
       "'This is        May 00026'"
      ]
     },
     "execution_count": 31,
     "metadata": {},
     "output_type": "execute_result"
    }
   ],
   "source": [
    "'This is {:>10} {:>05}'.format('May', 26)"
   ]
  },
  {
   "cell_type": "code",
   "execution_count": 33,
   "id": "6cb5056f",
   "metadata": {},
   "outputs": [
    {
     "data": {
      "text/plain": [
       "'This is        May 26   '"
      ]
     },
     "execution_count": 33,
     "metadata": {},
     "output_type": "execute_result"
    }
   ],
   "source": [
    "'This is {:>10} {:<5}'.format('May', 26)"
   ]
  },
  {
   "cell_type": "code",
   "execution_count": 35,
   "id": "b573929c",
   "metadata": {},
   "outputs": [
    {
     "data": {
      "text/plain": [
       "'This is        May xxx26'"
      ]
     },
     "execution_count": 35,
     "metadata": {},
     "output_type": "execute_result"
    }
   ],
   "source": [
    "'This is {:>10} {:x>5}'.format('May', 26)"
   ]
  },
  {
   "cell_type": "code",
   "execution_count": 37,
   "id": "d3be678c",
   "metadata": {},
   "outputs": [
    {
     "data": {
      "text/plain": [
       "'This is        May xxx26'"
      ]
     },
     "execution_count": 37,
     "metadata": {},
     "output_type": "execute_result"
    }
   ],
   "source": [
    "'This is {:>10} {:x>5}'.format('May', 26)"
   ]
  },
  {
   "cell_type": "code",
   "execution_count": 38,
   "id": "c07d281a",
   "metadata": {},
   "outputs": [
    {
     "data": {
      "text/plain": [
       "'This is        May 00026'"
      ]
     },
     "execution_count": 38,
     "metadata": {},
     "output_type": "execute_result"
    }
   ],
   "source": [
    "'This is {:>10} {:>05}'.format('May', 26)"
   ]
  },
  {
   "cell_type": "code",
   "execution_count": 39,
   "id": "091003e5",
   "metadata": {},
   "outputs": [
    {
     "data": {
      "text/plain": [
       "'This is        May 00026'"
      ]
     },
     "execution_count": 39,
     "metadata": {},
     "output_type": "execute_result"
    }
   ],
   "source": [
    "'This is {:>10} {:0>5}'.format('May', 26)"
   ]
  },
  {
   "cell_type": "code",
   "execution_count": null,
   "id": "d83a1d97",
   "metadata": {},
   "outputs": [],
   "source": []
  }
 ],
 "metadata": {
  "kernelspec": {
   "display_name": "Python 3 (ipykernel)",
   "language": "python",
   "name": "python3"
  },
  "language_info": {
   "codemirror_mode": {
    "name": "ipython",
    "version": 3
   },
   "file_extension": ".py",
   "mimetype": "text/x-python",
   "name": "python",
   "nbconvert_exporter": "python",
   "pygments_lexer": "ipython3",
   "version": "3.9.7"
  }
 },
 "nbformat": 4,
 "nbformat_minor": 5
}
