{
 "cells": [
  {
   "cell_type": "code",
   "execution_count": 1,
   "id": "6c88c27a",
   "metadata": {},
   "outputs": [],
   "source": [
    "a = [3, 1, 3, 2, 5]\n",
    "b = []"
   ]
  },
  {
   "cell_type": "code",
   "execution_count": 2,
   "id": "20288f39",
   "metadata": {},
   "outputs": [],
   "source": [
    "for i in a:\n",
    "    line = []\n",
    "    for j in range(i):\n",
    "        line.append(0)\n",
    "    b.append(line)"
   ]
  },
  {
   "cell_type": "code",
   "execution_count": 3,
   "id": "e8754dc3",
   "metadata": {},
   "outputs": [
    {
     "data": {
      "text/plain": [
       "[[0, 0, 0], [0], [0, 0, 0], [0, 0], [0, 0, 0, 0, 0]]"
      ]
     },
     "execution_count": 3,
     "metadata": {},
     "output_type": "execute_result"
    }
   ],
   "source": [
    "b"
   ]
  },
  {
   "cell_type": "code",
   "execution_count": 4,
   "id": "fbb55f50",
   "metadata": {},
   "outputs": [],
   "source": [
    "a = [[0]*i for i in [3, 1, 3, 2, 5]]"
   ]
  },
  {
   "cell_type": "code",
   "execution_count": 5,
   "id": "43e7b845",
   "metadata": {},
   "outputs": [
    {
     "data": {
      "text/plain": [
       "[[0, 0, 0], [0], [0, 0, 0], [0, 0], [0, 0, 0, 0, 0]]"
      ]
     },
     "execution_count": 5,
     "metadata": {},
     "output_type": "execute_result"
    }
   ],
   "source": [
    "a"
   ]
  },
  {
   "cell_type": "code",
   "execution_count": 6,
   "id": "28cf0c4d",
   "metadata": {},
   "outputs": [],
   "source": [
    "a = [[10, 20], [30, 40]]"
   ]
  },
  {
   "cell_type": "code",
   "execution_count": 7,
   "id": "8a45f09a",
   "metadata": {},
   "outputs": [],
   "source": [
    "import copy"
   ]
  },
  {
   "cell_type": "code",
   "execution_count": 8,
   "id": "d102fae0",
   "metadata": {},
   "outputs": [],
   "source": [
    "b = copy.deepcopy(a)"
   ]
  },
  {
   "cell_type": "code",
   "execution_count": 9,
   "id": "30cdc8ac",
   "metadata": {},
   "outputs": [
    {
     "data": {
      "text/plain": [
       "[[10, 20], [30, 40]]"
      ]
     },
     "execution_count": 9,
     "metadata": {},
     "output_type": "execute_result"
    }
   ],
   "source": [
    "b"
   ]
  },
  {
   "cell_type": "code",
   "execution_count": 10,
   "id": "98ca97f6",
   "metadata": {},
   "outputs": [],
   "source": [
    "b[0][0] = 100"
   ]
  },
  {
   "cell_type": "code",
   "execution_count": 11,
   "id": "080db15e",
   "metadata": {},
   "outputs": [
    {
     "data": {
      "text/plain": [
       "[[10, 20], [30, 40]]"
      ]
     },
     "execution_count": 11,
     "metadata": {},
     "output_type": "execute_result"
    }
   ],
   "source": [
    "a"
   ]
  },
  {
   "cell_type": "code",
   "execution_count": 12,
   "id": "2a093de9",
   "metadata": {},
   "outputs": [
    {
     "data": {
      "text/plain": [
       "[[100, 20], [30, 40]]"
      ]
     },
     "execution_count": 12,
     "metadata": {},
     "output_type": "execute_result"
    }
   ],
   "source": [
    "b"
   ]
  },
  {
   "cell_type": "code",
   "execution_count": 13,
   "id": "67940239",
   "metadata": {},
   "outputs": [
    {
     "data": {
      "text/plain": [
       "'Hello, Python'"
      ]
     },
     "execution_count": 13,
     "metadata": {},
     "output_type": "execute_result"
    }
   ],
   "source": [
    "'Hello, World'.replace('World','Python')"
   ]
  },
  {
   "cell_type": "code",
   "execution_count": 14,
   "id": "29517fe9",
   "metadata": {},
   "outputs": [
    {
     "data": {
      "text/plain": [
       "'Hello, World'"
      ]
     },
     "execution_count": 14,
     "metadata": {},
     "output_type": "execute_result"
    }
   ],
   "source": [
    "'Hello, World'.replace('world','Python')"
   ]
  },
  {
   "cell_type": "code",
   "execution_count": 15,
   "id": "8f61b357",
   "metadata": {},
   "outputs": [],
   "source": [
    "table = str.maketrans('aeiou','12345')"
   ]
  },
  {
   "cell_type": "code",
   "execution_count": 16,
   "id": "b06996d4",
   "metadata": {},
   "outputs": [
    {
     "data": {
      "text/plain": [
       "'1ppl2'"
      ]
     },
     "execution_count": 16,
     "metadata": {},
     "output_type": "execute_result"
    }
   ],
   "source": [
    "'apple'.translate(table)"
   ]
  },
  {
   "cell_type": "code",
   "execution_count": 17,
   "id": "2b00622d",
   "metadata": {},
   "outputs": [
    {
     "data": {
      "text/plain": [
       "'apple banana'"
      ]
     },
     "execution_count": 17,
     "metadata": {},
     "output_type": "execute_result"
    }
   ],
   "source": [
    "' '.join(['apple','banana'])"
   ]
  },
  {
   "cell_type": "code",
   "execution_count": 19,
   "id": "23e7f3b2",
   "metadata": {},
   "outputs": [
    {
     "data": {
      "text/plain": [
       "'apple-banana'"
      ]
     },
     "execution_count": 19,
     "metadata": {},
     "output_type": "execute_result"
    }
   ],
   "source": [
    "'-'.join(['apple','banana'])"
   ]
  },
  {
   "cell_type": "code",
   "execution_count": 20,
   "id": "06ce54ef",
   "metadata": {},
   "outputs": [
    {
     "data": {
      "text/plain": [
       "'APPLE'"
      ]
     },
     "execution_count": 20,
     "metadata": {},
     "output_type": "execute_result"
    }
   ],
   "source": [
    "'apple'.upper()"
   ]
  },
  {
   "cell_type": "code",
   "execution_count": 21,
   "id": "3de2fde7",
   "metadata": {},
   "outputs": [
    {
     "data": {
      "text/plain": [
       "'Hello Python  '"
      ]
     },
     "execution_count": 21,
     "metadata": {},
     "output_type": "execute_result"
    }
   ],
   "source": [
    "'   Hello Python  '.lstrip()"
   ]
  },
  {
   "cell_type": "code",
   "execution_count": 22,
   "id": "d9e1bd94",
   "metadata": {},
   "outputs": [
    {
     "data": {
      "text/plain": [
       "'Hello Python'"
      ]
     },
     "execution_count": 22,
     "metadata": {},
     "output_type": "execute_result"
    }
   ],
   "source": [
    "'   Hello Python  '.strip()"
   ]
  },
  {
   "cell_type": "code",
   "execution_count": 23,
   "id": "b5b3c654",
   "metadata": {},
   "outputs": [
    {
     "data": {
      "text/plain": [
       "' Hello Python  '"
      ]
     },
     "execution_count": 23,
     "metadata": {},
     "output_type": "execute_result"
    }
   ],
   "source": [
    "'... Hello Python  '.lstrip('.')"
   ]
  },
  {
   "cell_type": "code",
   "execution_count": 24,
   "id": "7d6f2c22",
   "metadata": {},
   "outputs": [
    {
     "data": {
      "text/plain": [
       "'Hello Python  '"
      ]
     },
     "execution_count": 24,
     "metadata": {},
     "output_type": "execute_result"
    }
   ],
   "source": [
    "'... Hello Python  '.lstrip('. ')"
   ]
  },
  {
   "cell_type": "code",
   "execution_count": 25,
   "id": "bf1ffe69",
   "metadata": {},
   "outputs": [
    {
     "data": {
      "text/plain": [
       "'Python    '"
      ]
     },
     "execution_count": 25,
     "metadata": {},
     "output_type": "execute_result"
    }
   ],
   "source": [
    "'Python'.ljust(10)"
   ]
  },
  {
   "cell_type": "code",
   "execution_count": 26,
   "id": "6b24d42c",
   "metadata": {},
   "outputs": [
    {
     "data": {
      "text/plain": [
       "'    Python'"
      ]
     },
     "execution_count": 26,
     "metadata": {},
     "output_type": "execute_result"
    }
   ],
   "source": [
    "'Python'.rjust(10)"
   ]
  },
  {
   "cell_type": "code",
   "execution_count": 27,
   "id": "34840a1b",
   "metadata": {},
   "outputs": [
    {
     "data": {
      "text/plain": [
       "'  Python  '"
      ]
     },
     "execution_count": 27,
     "metadata": {},
     "output_type": "execute_result"
    }
   ],
   "source": [
    "'Python'.center(10)"
   ]
  },
  {
   "cell_type": "code",
   "execution_count": 28,
   "id": "7906f596",
   "metadata": {},
   "outputs": [
    {
     "data": {
      "text/plain": [
       "'   Python  '"
      ]
     },
     "execution_count": 28,
     "metadata": {},
     "output_type": "execute_result"
    }
   ],
   "source": [
    "'Python'.center(11)"
   ]
  },
  {
   "cell_type": "code",
   "execution_count": 29,
   "id": "f85181f8",
   "metadata": {},
   "outputs": [
    {
     "data": {
      "text/plain": [
       "'   PYTHON  '"
      ]
     },
     "execution_count": 29,
     "metadata": {},
     "output_type": "execute_result"
    }
   ],
   "source": [
    "'Python'.center(11).upper()"
   ]
  },
  {
   "cell_type": "code",
   "execution_count": 30,
   "id": "f2b099e6",
   "metadata": {},
   "outputs": [
    {
     "data": {
      "text/plain": [
       "'00035'"
      ]
     },
     "execution_count": 30,
     "metadata": {},
     "output_type": "execute_result"
    }
   ],
   "source": [
    "'35'.zfill(5)"
   ]
  },
  {
   "cell_type": "code",
   "execution_count": 31,
   "id": "956ad31f",
   "metadata": {},
   "outputs": [
    {
     "data": {
      "text/plain": [
       "2"
      ]
     },
     "execution_count": 31,
     "metadata": {},
     "output_type": "execute_result"
    }
   ],
   "source": [
    "'Hello Python'.count('l')"
   ]
  },
  {
   "cell_type": "code",
   "execution_count": 32,
   "id": "43479b8c",
   "metadata": {},
   "outputs": [
    {
     "data": {
      "text/plain": [
       "1"
      ]
     },
     "execution_count": 32,
     "metadata": {},
     "output_type": "execute_result"
    }
   ],
   "source": [
    "'Hello Python'.count('lo')"
   ]
  },
  {
   "cell_type": "code",
   "execution_count": 33,
   "id": "f745215f",
   "metadata": {},
   "outputs": [
    {
     "data": {
      "text/plain": [
       "2"
      ]
     },
     "execution_count": 33,
     "metadata": {},
     "output_type": "execute_result"
    }
   ],
   "source": [
    "'Hello Python'.find('l')"
   ]
  },
  {
   "cell_type": "code",
   "execution_count": 34,
   "id": "fc86339c",
   "metadata": {},
   "outputs": [
    {
     "data": {
      "text/plain": [
       "-1"
      ]
     },
     "execution_count": 34,
     "metadata": {},
     "output_type": "execute_result"
    }
   ],
   "source": [
    "'Hello Python'.find('z')"
   ]
  },
  {
   "cell_type": "code",
   "execution_count": 36,
   "id": "01e0f55c",
   "metadata": {},
   "outputs": [
    {
     "data": {
      "text/plain": [
       "3"
      ]
     },
     "execution_count": 36,
     "metadata": {},
     "output_type": "execute_result"
    }
   ],
   "source": [
    "'Hello Python'.rfind('l')"
   ]
  },
  {
   "cell_type": "code",
   "execution_count": 37,
   "id": "a6d5577d",
   "metadata": {},
   "outputs": [
    {
     "data": {
      "text/plain": [
       "2"
      ]
     },
     "execution_count": 37,
     "metadata": {},
     "output_type": "execute_result"
    }
   ],
   "source": [
    "'Hello Python'.index('l')"
   ]
  },
  {
   "cell_type": "code",
   "execution_count": 38,
   "id": "ad66c090",
   "metadata": {},
   "outputs": [
    {
     "ename": "ValueError",
     "evalue": "substring not found",
     "output_type": "error",
     "traceback": [
      "\u001b[1;31m---------------------------------------------------------------------------\u001b[0m",
      "\u001b[1;31mValueError\u001b[0m                                Traceback (most recent call last)",
      "\u001b[1;32m~\\AppData\\Local\\Temp/ipykernel_9624/386039772.py\u001b[0m in \u001b[0;36m<module>\u001b[1;34m\u001b[0m\n\u001b[1;32m----> 1\u001b[1;33m \u001b[1;34m'Hello Python'\u001b[0m\u001b[1;33m.\u001b[0m\u001b[0mindex\u001b[0m\u001b[1;33m(\u001b[0m\u001b[1;34m'z'\u001b[0m\u001b[1;33m)\u001b[0m\u001b[1;33m\u001b[0m\u001b[1;33m\u001b[0m\u001b[0m\n\u001b[0m",
      "\u001b[1;31mValueError\u001b[0m: substring not found"
     ]
    }
   ],
   "source": [
    "'Hello Python'.index('z')"
   ]
  },
  {
   "cell_type": "code",
   "execution_count": 39,
   "id": "ff02e670",
   "metadata": {},
   "outputs": [
    {
     "data": {
      "text/plain": [
       "3"
      ]
     },
     "execution_count": 39,
     "metadata": {},
     "output_type": "execute_result"
    }
   ],
   "source": [
    "'Hello Python'.rindex('l')"
   ]
  },
  {
   "cell_type": "code",
   "execution_count": null,
   "id": "f31073ab",
   "metadata": {},
   "outputs": [],
   "source": []
  }
 ],
 "metadata": {
  "kernelspec": {
   "display_name": "Python 3 (ipykernel)",
   "language": "python",
   "name": "python3"
  },
  "language_info": {
   "codemirror_mode": {
    "name": "ipython",
    "version": 3
   },
   "file_extension": ".py",
   "mimetype": "text/x-python",
   "name": "python",
   "nbconvert_exporter": "python",
   "pygments_lexer": "ipython3",
   "version": "3.9.7"
  }
 },
 "nbformat": 4,
 "nbformat_minor": 5
}
