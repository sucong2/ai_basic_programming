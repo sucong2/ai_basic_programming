{
 "cells": [
  {
   "cell_type": "code",
   "execution_count": 1,
   "id": "feeac17b",
   "metadata": {},
   "outputs": [],
   "source": [
    "def factorial(n):\n",
    "    if n == 1:\n",
    "        return 1\n",
    "    return n * factorial(n-1)"
   ]
  },
  {
   "cell_type": "code",
   "execution_count": 2,
   "id": "0b3ca2d3",
   "metadata": {},
   "outputs": [
    {
     "data": {
      "text/plain": [
       "120"
      ]
     },
     "execution_count": 2,
     "metadata": {},
     "output_type": "execute_result"
    }
   ],
   "source": [
    "factorial(5)"
   ]
  },
  {
   "cell_type": "code",
   "execution_count": 3,
   "id": "bb8c8776",
   "metadata": {},
   "outputs": [],
   "source": [
    "def factorial2(n):\n",
    "    fact = 1\n",
    "    for i in range(1,n+1):\n",
    "        fact *= i\n",
    "    return fact"
   ]
  },
  {
   "cell_type": "code",
   "execution_count": 4,
   "id": "10c080a8",
   "metadata": {},
   "outputs": [
    {
     "data": {
      "text/plain": [
       "120"
      ]
     },
     "execution_count": 4,
     "metadata": {},
     "output_type": "execute_result"
    }
   ],
   "source": [
    "factorial2(5)"
   ]
  },
  {
   "cell_type": "code",
   "execution_count": 5,
   "id": "6aff8a28",
   "metadata": {},
   "outputs": [],
   "source": [
    "x = {'a': 10, 'b': 20, 'c': 30}"
   ]
  },
  {
   "cell_type": "code",
   "execution_count": 6,
   "id": "8683cec3",
   "metadata": {},
   "outputs": [],
   "source": [
    "x.setdefault('d')"
   ]
  },
  {
   "cell_type": "code",
   "execution_count": 7,
   "id": "cb248b43",
   "metadata": {},
   "outputs": [
    {
     "data": {
      "text/plain": [
       "{'a': 10, 'b': 20, 'c': 30, 'd': None}"
      ]
     },
     "execution_count": 7,
     "metadata": {},
     "output_type": "execute_result"
    }
   ],
   "source": [
    "x"
   ]
  },
  {
   "cell_type": "code",
   "execution_count": 8,
   "id": "6f40aab3",
   "metadata": {},
   "outputs": [
    {
     "data": {
      "text/plain": [
       "100"
      ]
     },
     "execution_count": 8,
     "metadata": {},
     "output_type": "execute_result"
    }
   ],
   "source": [
    "x.setdefault(1, 100)"
   ]
  },
  {
   "cell_type": "code",
   "execution_count": 9,
   "id": "128d8657",
   "metadata": {},
   "outputs": [
    {
     "data": {
      "text/plain": [
       "{'a': 10, 'b': 20, 'c': 30, 'd': None, 1: 100}"
      ]
     },
     "execution_count": 9,
     "metadata": {},
     "output_type": "execute_result"
    }
   ],
   "source": [
    "x"
   ]
  },
  {
   "cell_type": "code",
   "execution_count": 10,
   "id": "dc46eba5",
   "metadata": {},
   "outputs": [],
   "source": [
    "x.update(a=50)"
   ]
  },
  {
   "cell_type": "code",
   "execution_count": 11,
   "id": "097e2b8e",
   "metadata": {},
   "outputs": [
    {
     "data": {
      "text/plain": [
       "{'a': 50, 'b': 20, 'c': 30, 'd': None, 1: 100}"
      ]
     },
     "execution_count": 11,
     "metadata": {},
     "output_type": "execute_result"
    }
   ],
   "source": [
    "x"
   ]
  },
  {
   "cell_type": "code",
   "execution_count": 12,
   "id": "7996cdb6",
   "metadata": {},
   "outputs": [],
   "source": [
    "x.update(e=50)"
   ]
  },
  {
   "cell_type": "code",
   "execution_count": 13,
   "id": "bb90d50c",
   "metadata": {},
   "outputs": [
    {
     "data": {
      "text/plain": [
       "{'a': 50, 'b': 20, 'c': 30, 'd': None, 1: 100, 'e': 50}"
      ]
     },
     "execution_count": 13,
     "metadata": {},
     "output_type": "execute_result"
    }
   ],
   "source": [
    "x"
   ]
  },
  {
   "cell_type": "code",
   "execution_count": 16,
   "id": "8373f779",
   "metadata": {},
   "outputs": [],
   "source": [
    "x.update(ab=50)"
   ]
  },
  {
   "cell_type": "code",
   "execution_count": 17,
   "id": "d890bca3",
   "metadata": {},
   "outputs": [
    {
     "data": {
      "text/plain": [
       "{'a': 50, 'b': 20, 'c': 30, 'd': None, 1: 100, 'e': 50, 'ab': 50}"
      ]
     },
     "execution_count": 17,
     "metadata": {},
     "output_type": "execute_result"
    }
   ],
   "source": [
    "x"
   ]
  },
  {
   "cell_type": "code",
   "execution_count": 18,
   "id": "f7fa4f75",
   "metadata": {},
   "outputs": [],
   "source": [
    "x.update(x=50, y=60)"
   ]
  },
  {
   "cell_type": "code",
   "execution_count": 19,
   "id": "ab2d3f06",
   "metadata": {},
   "outputs": [
    {
     "data": {
      "text/plain": [
       "{'a': 50,\n",
       " 'b': 20,\n",
       " 'c': 30,\n",
       " 'd': None,\n",
       " 1: 100,\n",
       " 'e': 50,\n",
       " 'ab': 50,\n",
       " 'x': 50,\n",
       " 'y': 60}"
      ]
     },
     "execution_count": 19,
     "metadata": {},
     "output_type": "execute_result"
    }
   ],
   "source": [
    "x"
   ]
  },
  {
   "cell_type": "code",
   "execution_count": 20,
   "id": "6b2c3491",
   "metadata": {},
   "outputs": [],
   "source": [
    "x.update({2:100, 3:200})"
   ]
  },
  {
   "cell_type": "code",
   "execution_count": 21,
   "id": "dad1c622",
   "metadata": {},
   "outputs": [
    {
     "data": {
      "text/plain": [
       "{'a': 50,\n",
       " 'b': 20,\n",
       " 'c': 30,\n",
       " 'd': None,\n",
       " 1: 100,\n",
       " 'e': 50,\n",
       " 'ab': 50,\n",
       " 'x': 50,\n",
       " 'y': 60,\n",
       " 2: 100,\n",
       " 3: 200}"
      ]
     },
     "execution_count": 21,
     "metadata": {},
     "output_type": "execute_result"
    }
   ],
   "source": [
    "x"
   ]
  },
  {
   "cell_type": "code",
   "execution_count": 22,
   "id": "cab26a87",
   "metadata": {},
   "outputs": [],
   "source": [
    "x.update([[2,200], [3,400]])"
   ]
  },
  {
   "cell_type": "code",
   "execution_count": 23,
   "id": "869151ae",
   "metadata": {},
   "outputs": [
    {
     "data": {
      "text/plain": [
       "{'a': 50,\n",
       " 'b': 20,\n",
       " 'c': 30,\n",
       " 'd': None,\n",
       " 1: 100,\n",
       " 'e': 50,\n",
       " 'ab': 50,\n",
       " 'x': 50,\n",
       " 'y': 60,\n",
       " 2: 200,\n",
       " 3: 400}"
      ]
     },
     "execution_count": 23,
     "metadata": {},
     "output_type": "execute_result"
    }
   ],
   "source": [
    "x"
   ]
  },
  {
   "cell_type": "code",
   "execution_count": 24,
   "id": "91aad760",
   "metadata": {},
   "outputs": [],
   "source": [
    "x.update(((2,500), (3,600)))"
   ]
  },
  {
   "cell_type": "code",
   "execution_count": 27,
   "id": "6be09290",
   "metadata": {},
   "outputs": [],
   "source": [
    "x.update(zip(['a','b'],[30, 50]))"
   ]
  },
  {
   "cell_type": "code",
   "execution_count": 28,
   "id": "91c6dc8e",
   "metadata": {},
   "outputs": [
    {
     "data": {
      "text/plain": [
       "{'a': 30,\n",
       " 'b': 50,\n",
       " 'c': 30,\n",
       " 'd': None,\n",
       " 1: 100,\n",
       " 'e': 50,\n",
       " 'ab': 50,\n",
       " 'x': 50,\n",
       " 'y': 60,\n",
       " 2: 500,\n",
       " 3: 600}"
      ]
     },
     "execution_count": 28,
     "metadata": {},
     "output_type": "execute_result"
    }
   ],
   "source": [
    "x"
   ]
  },
  {
   "cell_type": "code",
   "execution_count": 29,
   "id": "2728c56b",
   "metadata": {},
   "outputs": [
    {
     "data": {
      "text/plain": [
       "30"
      ]
     },
     "execution_count": 29,
     "metadata": {},
     "output_type": "execute_result"
    }
   ],
   "source": [
    "x.pop('a')"
   ]
  },
  {
   "cell_type": "code",
   "execution_count": 30,
   "id": "4fd76b3c",
   "metadata": {},
   "outputs": [
    {
     "data": {
      "text/plain": [
       "{'b': 50,\n",
       " 'c': 30,\n",
       " 'd': None,\n",
       " 1: 100,\n",
       " 'e': 50,\n",
       " 'ab': 50,\n",
       " 'x': 50,\n",
       " 'y': 60,\n",
       " 2: 500,\n",
       " 3: 600}"
      ]
     },
     "execution_count": 30,
     "metadata": {},
     "output_type": "execute_result"
    }
   ],
   "source": [
    "x"
   ]
  },
  {
   "cell_type": "code",
   "execution_count": 31,
   "id": "fdca6546",
   "metadata": {},
   "outputs": [
    {
     "ename": "KeyError",
     "evalue": "'z'",
     "output_type": "error",
     "traceback": [
      "\u001b[1;31m---------------------------------------------------------------------------\u001b[0m",
      "\u001b[1;31mKeyError\u001b[0m                                  Traceback (most recent call last)",
      "\u001b[1;32m~\\AppData\\Local\\Temp/ipykernel_3256/779686491.py\u001b[0m in \u001b[0;36m<module>\u001b[1;34m\u001b[0m\n\u001b[1;32m----> 1\u001b[1;33m \u001b[0mx\u001b[0m\u001b[1;33m.\u001b[0m\u001b[0mpop\u001b[0m\u001b[1;33m(\u001b[0m\u001b[1;34m'z'\u001b[0m\u001b[1;33m)\u001b[0m\u001b[1;33m\u001b[0m\u001b[1;33m\u001b[0m\u001b[0m\n\u001b[0m",
      "\u001b[1;31mKeyError\u001b[0m: 'z'"
     ]
    }
   ],
   "source": [
    "x.pop('z')"
   ]
  },
  {
   "cell_type": "code",
   "execution_count": 32,
   "id": "e05357aa",
   "metadata": {},
   "outputs": [
    {
     "data": {
      "text/plain": [
       "0"
      ]
     },
     "execution_count": 32,
     "metadata": {},
     "output_type": "execute_result"
    }
   ],
   "source": [
    "x.pop('z', 0)"
   ]
  },
  {
   "cell_type": "code",
   "execution_count": 33,
   "id": "953a3730",
   "metadata": {},
   "outputs": [],
   "source": [
    "del x['b']"
   ]
  },
  {
   "cell_type": "code",
   "execution_count": 34,
   "id": "ab99be55",
   "metadata": {},
   "outputs": [
    {
     "data": {
      "text/plain": [
       "{'c': 30,\n",
       " 'd': None,\n",
       " 1: 100,\n",
       " 'e': 50,\n",
       " 'ab': 50,\n",
       " 'x': 50,\n",
       " 'y': 60,\n",
       " 2: 500,\n",
       " 3: 600}"
      ]
     },
     "execution_count": 34,
     "metadata": {},
     "output_type": "execute_result"
    }
   ],
   "source": [
    "x"
   ]
  },
  {
   "cell_type": "code",
   "execution_count": 35,
   "id": "28d55c47",
   "metadata": {},
   "outputs": [
    {
     "ename": "KeyError",
     "evalue": "'z'",
     "output_type": "error",
     "traceback": [
      "\u001b[1;31m---------------------------------------------------------------------------\u001b[0m",
      "\u001b[1;31mKeyError\u001b[0m                                  Traceback (most recent call last)",
      "\u001b[1;32m~\\AppData\\Local\\Temp/ipykernel_3256/2400642984.py\u001b[0m in \u001b[0;36m<module>\u001b[1;34m\u001b[0m\n\u001b[1;32m----> 1\u001b[1;33m \u001b[1;32mdel\u001b[0m \u001b[0mx\u001b[0m\u001b[1;33m[\u001b[0m\u001b[1;34m'z'\u001b[0m\u001b[1;33m]\u001b[0m\u001b[1;33m\u001b[0m\u001b[1;33m\u001b[0m\u001b[0m\n\u001b[0m",
      "\u001b[1;31mKeyError\u001b[0m: 'z'"
     ]
    }
   ],
   "source": [
    "del x['z']"
   ]
  },
  {
   "cell_type": "code",
   "execution_count": 36,
   "id": "03dd7d35",
   "metadata": {},
   "outputs": [
    {
     "data": {
      "text/plain": [
       "(3, 600)"
      ]
     },
     "execution_count": 36,
     "metadata": {},
     "output_type": "execute_result"
    }
   ],
   "source": [
    "x.popitem()"
   ]
  },
  {
   "cell_type": "code",
   "execution_count": 37,
   "id": "0a67ab43",
   "metadata": {},
   "outputs": [
    {
     "data": {
      "text/plain": [
       "{'c': 30, 'd': None, 1: 100, 'e': 50, 'ab': 50, 'x': 50, 'y': 60, 2: 500}"
      ]
     },
     "execution_count": 37,
     "metadata": {},
     "output_type": "execute_result"
    }
   ],
   "source": [
    "x"
   ]
  },
  {
   "cell_type": "code",
   "execution_count": 38,
   "id": "1b5b2765",
   "metadata": {},
   "outputs": [],
   "source": [
    "x.clear()"
   ]
  },
  {
   "cell_type": "code",
   "execution_count": 39,
   "id": "1b6edd6c",
   "metadata": {},
   "outputs": [
    {
     "data": {
      "text/plain": [
       "{}"
      ]
     },
     "execution_count": 39,
     "metadata": {},
     "output_type": "execute_result"
    }
   ],
   "source": [
    "x"
   ]
  },
  {
   "cell_type": "code",
   "execution_count": 40,
   "id": "5d888966",
   "metadata": {},
   "outputs": [],
   "source": [
    "x = {'a': 10, 'b': 20, 'c': 30}"
   ]
  },
  {
   "cell_type": "code",
   "execution_count": 41,
   "id": "e29b4901",
   "metadata": {},
   "outputs": [
    {
     "data": {
      "text/plain": [
       "10"
      ]
     },
     "execution_count": 41,
     "metadata": {},
     "output_type": "execute_result"
    }
   ],
   "source": [
    "x.get('a')"
   ]
  },
  {
   "cell_type": "code",
   "execution_count": 42,
   "id": "fdd5bf19",
   "metadata": {},
   "outputs": [],
   "source": [
    "x.get('x')"
   ]
  },
  {
   "cell_type": "code",
   "execution_count": 43,
   "id": "6538062a",
   "metadata": {},
   "outputs": [
    {
     "data": {
      "text/plain": [
       "-1"
      ]
     },
     "execution_count": 43,
     "metadata": {},
     "output_type": "execute_result"
    }
   ],
   "source": [
    "x.get('x', -1)"
   ]
  },
  {
   "cell_type": "code",
   "execution_count": 44,
   "id": "53358719",
   "metadata": {},
   "outputs": [
    {
     "data": {
      "text/plain": [
       "dict_items([('a', 10), ('b', 20), ('c', 30)])"
      ]
     },
     "execution_count": 44,
     "metadata": {},
     "output_type": "execute_result"
    }
   ],
   "source": [
    "x.items()"
   ]
  },
  {
   "cell_type": "code",
   "execution_count": 45,
   "id": "c0111935",
   "metadata": {},
   "outputs": [
    {
     "data": {
      "text/plain": [
       "dict_keys(['a', 'b', 'c'])"
      ]
     },
     "execution_count": 45,
     "metadata": {},
     "output_type": "execute_result"
    }
   ],
   "source": [
    "x.keys()"
   ]
  },
  {
   "cell_type": "code",
   "execution_count": 46,
   "id": "eb537b2f",
   "metadata": {},
   "outputs": [
    {
     "data": {
      "text/plain": [
       "dict_values([10, 20, 30])"
      ]
     },
     "execution_count": 46,
     "metadata": {},
     "output_type": "execute_result"
    }
   ],
   "source": [
    "x.values()"
   ]
  },
  {
   "cell_type": "code",
   "execution_count": 47,
   "id": "cb2374f3",
   "metadata": {},
   "outputs": [],
   "source": [
    "keys = ['x', 'y', 'z']"
   ]
  },
  {
   "cell_type": "code",
   "execution_count": 48,
   "id": "b4d273ce",
   "metadata": {},
   "outputs": [],
   "source": [
    "a = dict.fromkeys(keys)"
   ]
  },
  {
   "cell_type": "code",
   "execution_count": 49,
   "id": "c3a302e6",
   "metadata": {},
   "outputs": [
    {
     "data": {
      "text/plain": [
       "{'x': None, 'y': None, 'z': None}"
      ]
     },
     "execution_count": 49,
     "metadata": {},
     "output_type": "execute_result"
    }
   ],
   "source": [
    "a"
   ]
  },
  {
   "cell_type": "code",
   "execution_count": 50,
   "id": "fec66b55",
   "metadata": {},
   "outputs": [],
   "source": [
    "a = dict.fromkeys(keys, 10)"
   ]
  },
  {
   "cell_type": "code",
   "execution_count": 51,
   "id": "2778f450",
   "metadata": {},
   "outputs": [
    {
     "data": {
      "text/plain": [
       "{'x': 10, 'y': 10, 'z': 10}"
      ]
     },
     "execution_count": 51,
     "metadata": {},
     "output_type": "execute_result"
    }
   ],
   "source": [
    "a"
   ]
  },
  {
   "cell_type": "code",
   "execution_count": 52,
   "id": "78fae83f",
   "metadata": {},
   "outputs": [
    {
     "name": "stdout",
     "output_type": "stream",
     "text": [
      "x 10\n",
      "y 10\n",
      "z 10\n"
     ]
    }
   ],
   "source": [
    "for key, value in a.items():\n",
    "    print(key, value)"
   ]
  },
  {
   "cell_type": "code",
   "execution_count": 53,
   "id": "bf02cf1e",
   "metadata": {},
   "outputs": [
    {
     "name": "stdout",
     "output_type": "stream",
     "text": [
      "x\n",
      "y\n",
      "z\n"
     ]
    }
   ],
   "source": [
    "for key in a.keys():\n",
    "    print(key)"
   ]
  },
  {
   "cell_type": "code",
   "execution_count": 54,
   "id": "b031fdc5",
   "metadata": {},
   "outputs": [
    {
     "name": "stdout",
     "output_type": "stream",
     "text": [
      "10\n",
      "10\n",
      "10\n"
     ]
    }
   ],
   "source": [
    "for value in a.values():\n",
    "    print(value)"
   ]
  },
  {
   "cell_type": "code",
   "execution_count": 55,
   "id": "f41edcc7",
   "metadata": {},
   "outputs": [],
   "source": [
    "a = dict.fromkeys(keys)"
   ]
  },
  {
   "cell_type": "code",
   "execution_count": 56,
   "id": "fb8e60e4",
   "metadata": {},
   "outputs": [
    {
     "data": {
      "text/plain": [
       "{'x': None, 'y': None, 'z': None}"
      ]
     },
     "execution_count": 56,
     "metadata": {},
     "output_type": "execute_result"
    }
   ],
   "source": [
    "a"
   ]
  },
  {
   "cell_type": "code",
   "execution_count": 57,
   "id": "701f855f",
   "metadata": {},
   "outputs": [],
   "source": [
    "a = {key:value for key, value in dict.fromkeys(keys).items()}"
   ]
  },
  {
   "cell_type": "code",
   "execution_count": 58,
   "id": "cb6e2444",
   "metadata": {},
   "outputs": [
    {
     "data": {
      "text/plain": [
       "{'x': None, 'y': None, 'z': None}"
      ]
     },
     "execution_count": 58,
     "metadata": {},
     "output_type": "execute_result"
    }
   ],
   "source": [
    "a"
   ]
  },
  {
   "cell_type": "code",
   "execution_count": 59,
   "id": "6ca345b6",
   "metadata": {},
   "outputs": [],
   "source": [
    "a = {key:0 for key in dict.fromkeys(keys).keys()}"
   ]
  },
  {
   "cell_type": "code",
   "execution_count": 60,
   "id": "1100f056",
   "metadata": {},
   "outputs": [
    {
     "data": {
      "text/plain": [
       "{'x': 0, 'y': 0, 'z': 0}"
      ]
     },
     "execution_count": 60,
     "metadata": {},
     "output_type": "execute_result"
    }
   ],
   "source": [
    "a"
   ]
  },
  {
   "cell_type": "code",
   "execution_count": 61,
   "id": "2b005042",
   "metadata": {},
   "outputs": [],
   "source": [
    "a = dict.fromkeys(keys, 0)"
   ]
  },
  {
   "cell_type": "code",
   "execution_count": 64,
   "id": "398a81a9",
   "metadata": {},
   "outputs": [],
   "source": [
    "a = {'x': 10, 'y': 20, 'z': 30}"
   ]
  },
  {
   "cell_type": "code",
   "execution_count": 68,
   "id": "c1014243",
   "metadata": {},
   "outputs": [
    {
     "data": {
      "text/plain": [
       "{'x': 10, 'y': 20, 'z': 30}"
      ]
     },
     "execution_count": 68,
     "metadata": {},
     "output_type": "execute_result"
    }
   ],
   "source": [
    "a"
   ]
  },
  {
   "cell_type": "code",
   "execution_count": 66,
   "id": "a4a19dbe",
   "metadata": {},
   "outputs": [],
   "source": [
    "b = {value:0 for value in a.values()}"
   ]
  },
  {
   "cell_type": "code",
   "execution_count": 67,
   "id": "68e093d8",
   "metadata": {},
   "outputs": [
    {
     "data": {
      "text/plain": [
       "{10: 0, 20: 0, 30: 0}"
      ]
     },
     "execution_count": 67,
     "metadata": {},
     "output_type": "execute_result"
    }
   ],
   "source": [
    "b"
   ]
  },
  {
   "cell_type": "code",
   "execution_count": 69,
   "id": "cc60e4d1",
   "metadata": {},
   "outputs": [],
   "source": [
    "c = {value:key for key, value in a.items()}"
   ]
  },
  {
   "cell_type": "code",
   "execution_count": 70,
   "id": "b82fb9e7",
   "metadata": {},
   "outputs": [
    {
     "data": {
      "text/plain": [
       "{10: 'x', 20: 'y', 30: 'z'}"
      ]
     },
     "execution_count": 70,
     "metadata": {},
     "output_type": "execute_result"
    }
   ],
   "source": [
    "c"
   ]
  },
  {
   "cell_type": "code",
   "execution_count": 71,
   "id": "b0535ca2",
   "metadata": {},
   "outputs": [
    {
     "data": {
      "text/plain": [
       "{'x': 10, 'y': 20, 'z': 30}"
      ]
     },
     "execution_count": 71,
     "metadata": {},
     "output_type": "execute_result"
    }
   ],
   "source": [
    "a"
   ]
  },
  {
   "cell_type": "code",
   "execution_count": 72,
   "id": "704f2dfe",
   "metadata": {},
   "outputs": [],
   "source": [
    "b = {key:value for key, value in a.items()}"
   ]
  },
  {
   "cell_type": "code",
   "execution_count": 73,
   "id": "75bb7a14",
   "metadata": {},
   "outputs": [
    {
     "data": {
      "text/plain": [
       "{'x': 10, 'y': 20, 'z': 30}"
      ]
     },
     "execution_count": 73,
     "metadata": {},
     "output_type": "execute_result"
    }
   ],
   "source": [
    "b"
   ]
  },
  {
   "cell_type": "code",
   "execution_count": 74,
   "id": "2d5b6513",
   "metadata": {},
   "outputs": [],
   "source": [
    "b = {key:value for key, value in a.items() if value != 20}"
   ]
  },
  {
   "cell_type": "code",
   "execution_count": 75,
   "id": "da2a3c64",
   "metadata": {},
   "outputs": [
    {
     "data": {
      "text/plain": [
       "{'x': 10, 'z': 30}"
      ]
     },
     "execution_count": 75,
     "metadata": {},
     "output_type": "execute_result"
    }
   ],
   "source": [
    "b"
   ]
  },
  {
   "cell_type": "code",
   "execution_count": 76,
   "id": "a1e474cd",
   "metadata": {},
   "outputs": [
    {
     "data": {
      "text/plain": [
       "10"
      ]
     },
     "execution_count": 76,
     "metadata": {},
     "output_type": "execute_result"
    }
   ],
   "source": [
    "a.pop('x')"
   ]
  },
  {
   "cell_type": "code",
   "execution_count": 77,
   "id": "17aa3e16",
   "metadata": {},
   "outputs": [
    {
     "data": {
      "text/plain": [
       "{'y': 20, 'z': 30}"
      ]
     },
     "execution_count": 77,
     "metadata": {},
     "output_type": "execute_result"
    }
   ],
   "source": [
    "a"
   ]
  },
  {
   "cell_type": "code",
   "execution_count": null,
   "id": "32b11f77",
   "metadata": {},
   "outputs": [],
   "source": []
  }
 ],
 "metadata": {
  "kernelspec": {
   "display_name": "Python 3 (ipykernel)",
   "language": "python",
   "name": "python3"
  },
  "language_info": {
   "codemirror_mode": {
    "name": "ipython",
    "version": 3
   },
   "file_extension": ".py",
   "mimetype": "text/x-python",
   "name": "python",
   "nbconvert_exporter": "python",
   "pygments_lexer": "ipython3",
   "version": "3.9.7"
  }
 },
 "nbformat": 4,
 "nbformat_minor": 5
}
