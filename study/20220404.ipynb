{
 "cells": [
  {
   "cell_type": "code",
   "execution_count": 4,
   "id": "70f25162",
   "metadata": {},
   "outputs": [],
   "source": [
    "a = {'a':10, 'b':20, 'c':30, 'a':40}"
   ]
  },
  {
   "cell_type": "code",
   "execution_count": 5,
   "id": "16770eae",
   "metadata": {},
   "outputs": [
    {
     "data": {
      "text/plain": [
       "{'a': 40, 'b': 20, 'c': 30}"
      ]
     },
     "execution_count": 5,
     "metadata": {},
     "output_type": "execute_result"
    }
   ],
   "source": [
    "a"
   ]
  },
  {
   "cell_type": "code",
   "execution_count": 6,
   "id": "106f615d",
   "metadata": {},
   "outputs": [
    {
     "ename": "SyntaxError",
     "evalue": "invalid syntax (3455550953.py, line 1)",
     "output_type": "error",
     "traceback": [
      "\u001b[0;36m  File \u001b[0;32m\"/var/folders/7d/qj04sc_x28qf24rlcdbgwk4r0000gn/T/ipykernel_23150/3455550953.py\"\u001b[0;36m, line \u001b[0;32m1\u001b[0m\n\u001b[0;31m    stu = {'sucong1':('age': 20, 'sex':female),'sucong2':('age': 22, 'sex':male)}\u001b[0m\n\u001b[0m                           ^\u001b[0m\n\u001b[0;31mSyntaxError\u001b[0m\u001b[0;31m:\u001b[0m invalid syntax\n"
     ]
    }
   ],
   "source": [
    "stu = {'sucong1':('age': 20, 'sex':female),'sucong2':('age': 22, 'sex':male)}"
   ]
  },
  {
   "cell_type": "code",
   "execution_count": 7,
   "id": "7f7b1bd7",
   "metadata": {},
   "outputs": [],
   "source": [
    "x = dict(이름 = 'ghdrlfehd', 나이 ='20')"
   ]
  },
  {
   "cell_type": "code",
   "execution_count": 8,
   "id": "1073f9fd",
   "metadata": {},
   "outputs": [
    {
     "data": {
      "text/plain": [
       "{'이름': 'ghdrlfehd', '나이': '20'}"
      ]
     },
     "execution_count": 8,
     "metadata": {},
     "output_type": "execute_result"
    }
   ],
   "source": [
    "x"
   ]
  },
  {
   "cell_type": "code",
   "execution_count": null,
   "id": "b80fb6ba",
   "metadata": {},
   "outputs": [],
   "source": [
    "a"
   ]
  }
 ],
 "metadata": {
  "kernelspec": {
   "display_name": "Python 3 (ipykernel)",
   "language": "python",
   "name": "python3"
  },
  "language_info": {
   "codemirror_mode": {
    "name": "ipython",
    "version": 3
   },
   "file_extension": ".py",
   "mimetype": "text/x-python",
   "name": "python",
   "nbconvert_exporter": "python",
   "pygments_lexer": "ipython3",
   "version": "3.9.7"
  }
 },
 "nbformat": 4,
 "nbformat_minor": 5
}
