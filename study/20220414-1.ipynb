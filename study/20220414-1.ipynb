{
 "cells": [
  {
   "cell_type": "code",
   "execution_count": 8,
   "id": "c95c7441",
   "metadata": {},
   "outputs": [
    {
     "name": "stdout",
     "output_type": "stream",
     "text": [
      "1 Hello, Python\n",
      "2 Hello, Python\n",
      "3 Hello, Python\n"
     ]
    }
   ],
   "source": [
    "i = 0\n",
    "while i < 3:\n",
    "    print(i+1, \"Hello, Python\")\n",
    "    i += 1"
   ]
  },
  {
   "cell_type": "code",
   "execution_count": 9,
   "id": "1a10b424",
   "metadata": {},
   "outputs": [
    {
     "name": "stdout",
     "output_type": "stream",
     "text": [
      "1 Hello, Python\n",
      "2 Hello, Python\n",
      "3 Hello, Python\n"
     ]
    }
   ],
   "source": [
    "i = 1\n",
    "while i <= 3:\n",
    "    print(i, \"Hello, Python\")\n",
    "    i += 1"
   ]
  },
  {
   "cell_type": "code",
   "execution_count": 10,
   "id": "bc40c6d0",
   "metadata": {},
   "outputs": [
    {
     "name": "stdout",
     "output_type": "stream",
     "text": [
      "3 Hello, Python\n",
      "2 Hello, Python\n",
      "1 Hello, Python\n"
     ]
    }
   ],
   "source": [
    "i = 3\n",
    "while i > 0:\n",
    "    print(i, \"Hello, Python\")\n",
    "    i -= 1"
   ]
  },
  {
   "cell_type": "code",
   "execution_count": 11,
   "id": "c9e62988",
   "metadata": {},
   "outputs": [
    {
     "name": "stdout",
     "output_type": "stream",
     "text": [
      "반복 횟수를 입력하세요:5\n",
      "1 Hello, Python\n",
      "2 Hello, Python\n",
      "3 Hello, Python\n",
      "4 Hello, Python\n",
      "5 Hello, Python\n"
     ]
    }
   ],
   "source": [
    "count = int(input('반복 횟수를 입력하세요:'))\n",
    "\n",
    "i = 0\n",
    "while i < count:\n",
    "    print(i+1, \"Hello, Python\")\n",
    "    i += 1"
   ]
  },
  {
   "cell_type": "code",
   "execution_count": 12,
   "id": "281f914d",
   "metadata": {},
   "outputs": [
    {
     "data": {
      "text/plain": [
       "1.7320508075688772"
      ]
     },
     "execution_count": 12,
     "metadata": {},
     "output_type": "execute_result"
    }
   ],
   "source": [
    "3 ** 0.5"
   ]
  },
  {
   "cell_type": "code",
   "execution_count": 13,
   "id": "ca12010d",
   "metadata": {},
   "outputs": [],
   "source": [
    "import random"
   ]
  },
  {
   "cell_type": "code",
   "execution_count": 14,
   "id": "7b11a746",
   "metadata": {},
   "outputs": [
    {
     "data": {
      "text/plain": [
       "0.7631598021526834"
      ]
     },
     "execution_count": 14,
     "metadata": {},
     "output_type": "execute_result"
    }
   ],
   "source": [
    "random.random()"
   ]
  },
  {
   "cell_type": "code",
   "execution_count": 15,
   "id": "ce98d68f",
   "metadata": {},
   "outputs": [
    {
     "data": {
      "text/plain": [
       "0.9180394832743785"
      ]
     },
     "execution_count": 15,
     "metadata": {},
     "output_type": "execute_result"
    }
   ],
   "source": [
    "random.random()"
   ]
  },
  {
   "cell_type": "code",
   "execution_count": 16,
   "id": "9f1b631e",
   "metadata": {},
   "outputs": [
    {
     "data": {
      "text/plain": [
       "0.9350460931080918"
      ]
     },
     "execution_count": 16,
     "metadata": {},
     "output_type": "execute_result"
    }
   ],
   "source": [
    "random.random()"
   ]
  },
  {
   "cell_type": "code",
   "execution_count": 17,
   "id": "648eb6fc",
   "metadata": {},
   "outputs": [
    {
     "data": {
      "text/plain": [
       "0.9854604386500428"
      ]
     },
     "execution_count": 17,
     "metadata": {},
     "output_type": "execute_result"
    }
   ],
   "source": [
    "random.random()"
   ]
  },
  {
   "cell_type": "code",
   "execution_count": 18,
   "id": "9949ed26",
   "metadata": {},
   "outputs": [
    {
     "data": {
      "text/plain": [
       "0.8384389172174158"
      ]
     },
     "execution_count": 18,
     "metadata": {},
     "output_type": "execute_result"
    }
   ],
   "source": [
    "random.random()"
   ]
  },
  {
   "cell_type": "code",
   "execution_count": 19,
   "id": "b0030b77",
   "metadata": {},
   "outputs": [
    {
     "data": {
      "text/plain": [
       "0.7830044822238003"
      ]
     },
     "execution_count": 19,
     "metadata": {},
     "output_type": "execute_result"
    }
   ],
   "source": [
    "random.random()"
   ]
  },
  {
   "cell_type": "code",
   "execution_count": 20,
   "id": "3d179da0",
   "metadata": {},
   "outputs": [
    {
     "data": {
      "text/plain": [
       "0.1466628904338616"
      ]
     },
     "execution_count": 20,
     "metadata": {},
     "output_type": "execute_result"
    }
   ],
   "source": [
    "random.random()"
   ]
  },
  {
   "cell_type": "code",
   "execution_count": 21,
   "id": "9f8f3df6",
   "metadata": {},
   "outputs": [
    {
     "data": {
      "text/plain": [
       "6"
      ]
     },
     "execution_count": 21,
     "metadata": {},
     "output_type": "execute_result"
    }
   ],
   "source": [
    "random.randint(1,6)"
   ]
  },
  {
   "cell_type": "code",
   "execution_count": 22,
   "id": "54afc5cd",
   "metadata": {},
   "outputs": [
    {
     "data": {
      "text/plain": [
       "4"
      ]
     },
     "execution_count": 22,
     "metadata": {},
     "output_type": "execute_result"
    }
   ],
   "source": [
    "random.randint(1,6)"
   ]
  },
  {
   "cell_type": "code",
   "execution_count": 23,
   "id": "7aff6126",
   "metadata": {},
   "outputs": [
    {
     "data": {
      "text/plain": [
       "3"
      ]
     },
     "execution_count": 23,
     "metadata": {},
     "output_type": "execute_result"
    }
   ],
   "source": [
    "random.randint(1,6)"
   ]
  },
  {
   "cell_type": "code",
   "execution_count": 24,
   "id": "3bc6c89e",
   "metadata": {},
   "outputs": [
    {
     "data": {
      "text/plain": [
       "2"
      ]
     },
     "execution_count": 24,
     "metadata": {},
     "output_type": "execute_result"
    }
   ],
   "source": [
    "random.randint(1,6)"
   ]
  },
  {
   "cell_type": "code",
   "execution_count": 25,
   "id": "37611f13",
   "metadata": {},
   "outputs": [
    {
     "data": {
      "text/plain": [
       "6"
      ]
     },
     "execution_count": 25,
     "metadata": {},
     "output_type": "execute_result"
    }
   ],
   "source": [
    "random.randint(1,6)"
   ]
  },
  {
   "cell_type": "code",
   "execution_count": 28,
   "id": "eb8ac403",
   "metadata": {},
   "outputs": [
    {
     "name": "stdout",
     "output_type": "stream",
     "text": [
      "6\n",
      "1\n",
      "4\n",
      "5\n",
      "2\n",
      "4\n",
      "4\n",
      "2\n",
      "4\n",
      "5\n",
      "2\n",
      "4\n",
      "5\n",
      "3\n"
     ]
    }
   ],
   "source": [
    "import random\n",
    "\n",
    "while True:\n",
    "    i = random.randint(1,6)\n",
    "    print(i)\n",
    "    if i == 3:\n",
    "        break\n"
   ]
  },
  {
   "cell_type": "code",
   "execution_count": 37,
   "id": "9a26269b",
   "metadata": {},
   "outputs": [
    {
     "name": "stdout",
     "output_type": "stream",
     "text": [
      "1의 갯수: 1008\n",
      "2의 갯수: 964\n",
      "3의 갯수: 998\n",
      "4의 갯수: 1008\n",
      "5의 갯수: 1002\n",
      "6의 갯수: 1020\n"
     ]
    }
   ],
   "source": [
    "import random\n",
    "\n",
    "count1 = count2 = count3 = count4 = count5 = count6 = 0\n",
    "i = 6000\n",
    "\n",
    "while i > 0:\n",
    "    num = random.randint(1,6)\n",
    "    if num == 1:\n",
    "        count1 += 1\n",
    "    elif num == 2:\n",
    "        count2 += 1\n",
    "    elif num == 3:\n",
    "        count3 += 1\n",
    "    elif num == 4:\n",
    "        count4 += 1\n",
    "    elif num == 5:\n",
    "        count5 += 1\n",
    "    else:\n",
    "        count6 += 1\n",
    "    i -= 1\n",
    "    \n",
    "print(\"1의 갯수:\", count1)    \n",
    "print(\"2의 갯수:\", count2)    \n",
    "print(\"3의 갯수:\", count3)    \n",
    "print(\"4의 갯수:\", count4)    \n",
    "print(\"5의 갯수:\", count5)    \n",
    "print(\"6의 갯수:\", count6)    "
   ]
  },
  {
   "cell_type": "code",
   "execution_count": 38,
   "id": "22ba7088",
   "metadata": {},
   "outputs": [
    {
     "name": "stdout",
     "output_type": "stream",
     "text": [
      "1의 갯수: 1034\n",
      "2의 갯수: 939\n",
      "3의 갯수: 1040\n",
      "4의 갯수: 1017\n",
      "5의 갯수: 975\n",
      "6의 갯수: 995\n"
     ]
    }
   ],
   "source": [
    "import random\n",
    "\n",
    "count = [0, 0, 0, 0, 0, 0]\n",
    "i = 6000\n",
    "\n",
    "while i > 0:\n",
    "    num = random.randint(1,6)\n",
    "    count[num-1] += 1\n",
    "    i -= 1\n",
    "    \n",
    "for j in range(6):\n",
    "    print(str(j+1)+'의 갯수:', count[j])"
   ]
  },
  {
   "cell_type": "code",
   "execution_count": 40,
   "id": "bd905829",
   "metadata": {},
   "outputs": [
    {
     "name": "stdout",
     "output_type": "stream",
     "text": [
      "내 점수: 11\n",
      "4승 3무 3패\n"
     ]
    }
   ],
   "source": [
    "import random\n",
    "\n",
    "game = 10\n",
    "score = 0\n",
    "win = draw = lose = 0\n",
    "\n",
    "while game > 0:\n",
    "    opp = random.randint(1,6)\n",
    "    me  = random.randint(1,6)\n",
    "    if me > opp:\n",
    "        score += 2\n",
    "        win += 1\n",
    "    elif me == opp:\n",
    "        score += 1\n",
    "        draw += 1\n",
    "    else:\n",
    "        lose += 1\n",
    "    \n",
    "    game -= 1\n",
    "    \n",
    "print('내 점수:', score)\n",
    "print(str(win)+'승', str(draw)+'무', str(lose)+'패')"
   ]
  },
  {
   "cell_type": "code",
   "execution_count": 43,
   "id": "aa980a5a",
   "metadata": {},
   "outputs": [
    {
     "name": "stdout",
     "output_type": "stream",
     "text": [
      "2\n",
      "4\n",
      "6\n",
      "8\n",
      "10\n"
     ]
    }
   ],
   "source": [
    "for i in range(1,11):\n",
    "    if i%2 == 0:\n",
    "        print(i)"
   ]
  },
  {
   "cell_type": "code",
   "execution_count": 46,
   "id": "25a414d4",
   "metadata": {},
   "outputs": [
    {
     "name": "stdout",
     "output_type": "stream",
     "text": [
      "짝수를 구할 마지막 수를 입력하세요:100\n",
      "2\n",
      "4\n",
      "6\n",
      "8\n",
      "10\n",
      "12\n",
      "14\n",
      "16\n",
      "18\n",
      "20\n",
      "22\n",
      "24\n",
      "26\n",
      "28\n",
      "30\n",
      "32\n",
      "34\n",
      "36\n",
      "38\n",
      "40\n",
      "42\n",
      "44\n",
      "46\n",
      "48\n",
      "50\n",
      "52\n",
      "54\n",
      "56\n",
      "58\n",
      "60\n",
      "62\n",
      "64\n",
      "66\n",
      "68\n",
      "70\n",
      "72\n",
      "74\n",
      "76\n",
      "78\n",
      "80\n",
      "82\n",
      "84\n",
      "86\n",
      "88\n",
      "90\n",
      "92\n",
      "94\n",
      "96\n",
      "98\n",
      "100\n"
     ]
    }
   ],
   "source": [
    "count = int(input('짝수를 구할 마지막 수를 입력하세요:'))\n",
    "for i in range(1,count+1):\n",
    "    if i%2 != 0:\n",
    "        continue\n",
    "    print(i)"
   ]
  },
  {
   "cell_type": "code",
   "execution_count": null,
   "id": "3207bd63",
   "metadata": {},
   "outputs": [],
   "source": []
  }
 ],
 "metadata": {
  "kernelspec": {
   "display_name": "Python 3 (ipykernel)",
   "language": "python",
   "name": "python3"
  },
  "language_info": {
   "codemirror_mode": {
    "name": "ipython",
    "version": 3
   },
   "file_extension": ".py",
   "mimetype": "text/x-python",
   "name": "python",
   "nbconvert_exporter": "python",
   "pygments_lexer": "ipython3",
   "version": "3.9.7"
  }
 },
 "nbformat": 4,
 "nbformat_minor": 5
}
