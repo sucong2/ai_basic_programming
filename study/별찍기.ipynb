{
  "nbformat": 4,
  "nbformat_minor": 0,
  "metadata": {
    "colab": {
      "name": "별찍기",
      "provenance": [],
      "collapsed_sections": []
    },
    "kernelspec": {
      "name": "python3",
      "display_name": "Python 3"
    },
    "language_info": {
      "name": "python"
    }
  },
  "cells": [
    {
      "cell_type": "code",
      "execution_count": 1,
      "metadata": {
        "colab": {
          "base_uri": "https://localhost:8080/"
        },
        "id": "ciuFFXsxJFOe",
        "outputId": "3f52aa32-674d-4eff-c82d-4812449400c8"
      },
      "outputs": [
        {
          "output_type": "stream",
          "name": "stdout",
          "text": [
            "12345\n",
            "12345\n",
            "12345\n",
            "12345\n",
            "12345\n"
          ]
        }
      ],
      "source": [
        "for i in range(1,6,1):\n",
        "  for j in range(1,6,1):\n",
        "    print(j, end=' ')\n",
        "  print()"
      ]
    },
    {
      "cell_type": "code",
      "source": [
        "n = 5\n",
        "for i in reversed(range(n)):\n",
        "  for j in range(n):\n",
        "    if j <= i:\n",
        "      print(n, end='')\n",
        "    print()"
      ],
      "metadata": {
        "colab": {
          "base_uri": "https://localhost:8080/"
        },
        "id": "QzDE581EJQAh",
        "outputId": "bf4f14f5-759e-4ca8-f7fb-4dbb739f9643"
      },
      "execution_count": 1,
      "outputs": [
        {
          "output_type": "stream",
          "name": "stdout",
          "text": [
            "5\n",
            "5\n",
            "5\n",
            "5\n",
            "5\n",
            "5\n",
            "5\n",
            "5\n",
            "5\n",
            "\n",
            "5\n",
            "5\n",
            "5\n",
            "\n",
            "\n",
            "5\n",
            "5\n",
            "\n",
            "\n",
            "\n",
            "5\n",
            "\n",
            "\n",
            "\n",
            "\n"
          ]
        }
      ]
    },
    {
      "cell_type": "code",
      "source": [
        "for i in range(1,6,1):\n",
        "    for j in range(1,6,1):\n",
        "        if j < i:\n",
        "            print(' ', end='')\n",
        "        else:\n",
        "            print(j, end='')\n",
        "\n",
        "    print()"
      ],
      "metadata": {
        "colab": {
          "base_uri": "https://localhost:8080/"
        },
        "id": "gZ2pnQJDKHCt",
        "outputId": "27c2e0a3-34b8-4b05-a3d8-dc9d8fb9e071"
      },
      "execution_count": 10,
      "outputs": [
        {
          "output_type": "stream",
          "name": "stdout",
          "text": [
            "12345\n",
            " 2345\n",
            "  345\n",
            "   45\n",
            "    5\n"
          ]
        }
      ]
    },
    {
      "cell_type": "code",
      "source": [
        ""
      ],
      "metadata": {
        "id": "98EmCv1HKjW0"
      },
      "execution_count": null,
      "outputs": []
    }
  ]
}