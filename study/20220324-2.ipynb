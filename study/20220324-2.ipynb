{
 "cells": [
  {
   "cell_type": "code",
   "execution_count": 1,
   "id": "1cf324af",
   "metadata": {},
   "outputs": [],
   "source": [
    "hello = \"안녕\""
   ]
  },
  {
   "cell_type": "code",
   "execution_count": 2,
   "id": "a9ea759e",
   "metadata": {},
   "outputs": [
    {
     "data": {
      "text/plain": [
       "'안녕'"
      ]
     },
     "execution_count": 2,
     "metadata": {},
     "output_type": "execute_result"
    }
   ],
   "source": [
    "hello"
   ]
  },
  {
   "cell_type": "code",
   "execution_count": 4,
   "id": "827a09e3",
   "metadata": {},
   "outputs": [
    {
     "data": {
      "text/plain": [
       "'안녕\\n하세용'"
      ]
     },
     "execution_count": 4,
     "metadata": {},
     "output_type": "execute_result"
    }
   ],
   "source": [
    "hi = \"\"\"안녕\n",
    "하세용\"\"\"\n",
    "hi"
   ]
  },
  {
   "cell_type": "code",
   "execution_count": 6,
   "id": "30dfb72c",
   "metadata": {},
   "outputs": [
    {
     "data": {
      "text/plain": [
       "\"he said 'Hi!' \""
      ]
     },
     "execution_count": 6,
     "metadata": {},
     "output_type": "execute_result"
    }
   ],
   "source": [
    "string = \"he said 'Hi!' \"\n",
    "string"
   ]
  },
  {
   "cell_type": "code",
   "execution_count": 9,
   "id": "03ebb2b6",
   "metadata": {},
   "outputs": [],
   "source": [
    "string2 = \"he said \\\"she isn't happy\\\"\""
   ]
  },
  {
   "cell_type": "code",
   "execution_count": 10,
   "id": "8e379e7a",
   "metadata": {},
   "outputs": [
    {
     "data": {
      "text/plain": [
       "'he said \"she isn\\'t happy\"'"
      ]
     },
     "execution_count": 10,
     "metadata": {},
     "output_type": "execute_result"
    }
   ],
   "source": [
    "string2"
   ]
  },
  {
   "cell_type": "code",
   "execution_count": 11,
   "id": "e24316bb",
   "metadata": {},
   "outputs": [
    {
     "name": "stdout",
     "output_type": "stream",
     "text": [
      "he said \"she isn't happy\"\n"
     ]
    }
   ],
   "source": [
    "print(string2)"
   ]
  },
  {
   "cell_type": "code",
   "execution_count": 12,
   "id": "4e5416ce",
   "metadata": {},
   "outputs": [
    {
     "name": "stdout",
     "output_type": "stream",
     "text": [
      "hello \t world\n"
     ]
    }
   ],
   "source": [
    "print(\"hello \\t world\")"
   ]
  },
  {
   "cell_type": "code",
   "execution_count": null,
   "id": "49098bf7",
   "metadata": {},
   "outputs": [],
   "source": [
    "ㅈ"
   ]
  }
 ],
 "metadata": {
  "kernelspec": {
   "display_name": "Python 3 (ipykernel)",
   "language": "python",
   "name": "python3"
  },
  "language_info": {
   "codemirror_mode": {
    "name": "ipython",
    "version": 3
   },
   "file_extension": ".py",
   "mimetype": "text/x-python",
   "name": "python",
   "nbconvert_exporter": "python",
   "pygments_lexer": "ipython3",
   "version": "3.9.7"
  }
 },
 "nbformat": 4,
 "nbformat_minor": 5
}
