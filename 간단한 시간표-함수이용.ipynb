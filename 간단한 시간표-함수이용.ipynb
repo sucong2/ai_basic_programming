{
 "cells": [
  {
   "cell_type": "markdown",
   "id": "c7d684d9",
   "metadata": {},
   "source": [
    "##### 과제 5 모범 답안 2: 딕셔너리 버전\n",
    "\n",
    "### 시간표 관리 프로그램 코드를 함수를 이용해 개선하기"
   ]
  },
  {
   "cell_type": "code",
   "execution_count": 1,
   "id": "1d1d5451",
   "metadata": {
    "scrolled": true
   },
   "outputs": [
    {
     "name": "stdout",
     "output_type": "stream",
     "text": [
      " [단순한 수업시간표 관리 프로그램]\n",
      "===========================\n"
     ]
    }
   ],
   "source": [
    "# 프로그램 제목 출력\n",
    "print(' [단순한 수업시간표 관리 프로그램]')\n",
    "print('===========================')\n",
    "\n",
    "# 수업정보 초기화\n",
    "\n",
    "weekdays = ['월', '화', '수', '목', '금'] \n",
    "hours    = [ str(x) for x in range(1, 9)] \n",
    "\n",
    "classes = {key: { key:' ' for key, value in dict.fromkeys(weekdays).items()} \n",
    "                          for key in dict.fromkeys(hours).keys()}         \n",
    "# 수업정보 예시\n",
    "# classes['2']['화'] = 'A' : 화요일 2교시 과목 'A' 수업  "
   ]
  },
  {
   "cell_type": "code",
   "execution_count": 2,
   "id": "443a4a80",
   "metadata": {
    "scrolled": true
   },
   "outputs": [],
   "source": [
    "def print_timetable(**classdict):\n",
    "    print(\"\\n\")\n",
    "    print(\"[ TimeTable ]\")\n",
    "    print(\"-------------\")\n",
    "    print(\"| |M|T|W|T|F|\")                # 요일 출력\n",
    "    print(\"-------------\")\n",
    "    \n",
    "    for hour in classdict.keys():\n",
    "        print('|', end='')\n",
    "        \n",
    "        print(hour, end='|')          # 교시 출력\n",
    "        for day in classdict[hour].keys():\n",
    "            print(classdict[hour][day], end='|') # 알파벳 출력\n",
    "        print()\n",
    "    print(\"-------------\\n\")    "
   ]
  },
  {
   "cell_type": "code",
   "execution_count": 3,
   "id": "0f3473ce",
   "metadata": {
    "scrolled": true
   },
   "outputs": [],
   "source": [
    "def dup_check(day, hour, num, **classdict):  # 중복 확인 함수\n",
    "    dup = False\n",
    "    for i in range(num):\n",
    "        if classdict[str(int(hour)+i)][day] != ' ':\n",
    "            dup = True\n",
    "            break\n",
    "    return dup"
   ]
  },
  {
   "cell_type": "code",
   "execution_count": 4,
   "id": "9041b58f",
   "metadata": {
    "scrolled": true
   },
   "outputs": [
    {
     "name": "stdout",
     "output_type": "stream",
     "text": [
      "\n",
      "\n",
      "[ TimeTable ]\n",
      "-------------\n",
      "| |M|T|W|T|F|\n",
      "-------------\n",
      "|1| | | | | |\n",
      "|2| | | | | |\n",
      "|3| | | | | |\n",
      "|4| | | | | |\n",
      "|5| | | | | |\n",
      "|6| | | | | |\n",
      "|7| | | | | |\n",
      "|8| | | | | |\n",
      "-------------\n",
      "\n",
      ">>> 메뉴를 선택하세요 (1. 수업등록, 2. 종료): 1\n",
      ">>> 등록할 수업의 요일과 교시를 입력하세요: 화 2\n",
      ">>> 등록할 수업의 연강시간을 입력하세요: 2\n",
      ">>> 등록할 수업의 알파벳을 입력하세요: A\n",
      "\n",
      "\n",
      "[ TimeTable ]\n",
      "-------------\n",
      "| |M|T|W|T|F|\n",
      "-------------\n",
      "|1| | | | | |\n",
      "|2| |A| | | |\n",
      "|3| |A| | | |\n",
      "|4| | | | | |\n",
      "|5| | | | | |\n",
      "|6| | | | | |\n",
      "|7| | | | | |\n",
      "|8| | | | | |\n",
      "-------------\n",
      "\n",
      ">>> 메뉴를 선택하세요 (1. 수업등록, 2. 종료): 1\n",
      ">>> 등록할 수업의 요일과 교시를 입력하세요: 목 8\n",
      ">>> 등록할 수업의 연강시간을 입력하세요: 1\n",
      ">>> 등록할 수업의 알파벳을 입력하세요: B\n",
      "\n",
      "\n",
      "[ TimeTable ]\n",
      "-------------\n",
      "| |M|T|W|T|F|\n",
      "-------------\n",
      "|1| | | | | |\n",
      "|2| |A| | | |\n",
      "|3| |A| | | |\n",
      "|4| | | | | |\n",
      "|5| | | | | |\n",
      "|6| | | | | |\n",
      "|7| | | | | |\n",
      "|8| | | |B| |\n",
      "-------------\n",
      "\n",
      ">>> 메뉴를 선택하세요 (1. 수업등록, 2. 종료): 1\n",
      ">>> 등록할 수업의 요일과 교시를 입력하세요: 금 4\n",
      ">>> 등록할 수업의 연강시간을 입력하세요: 3\n",
      ">>> 등록할 수업의 알파벳을 입력하세요: C\n",
      "\n",
      "\n",
      "[ TimeTable ]\n",
      "-------------\n",
      "| |M|T|W|T|F|\n",
      "-------------\n",
      "|1| | | | | |\n",
      "|2| |A| | | |\n",
      "|3| |A| | | |\n",
      "|4| | | | |C|\n",
      "|5| | | | |C|\n",
      "|6| | | | |C|\n",
      "|7| | | | | |\n",
      "|8| | | |B| |\n",
      "-------------\n",
      "\n",
      ">>> 메뉴를 선택하세요 (1. 수업등록, 2. 종료): 1\n",
      ">>> 등록할 수업의 요일과 교시를 입력하세요: 금 2\n",
      ">>> 등록할 수업의 연강시간을 입력하세요: 3\n",
      ">>> [ERROR] 해당 시간에 이미 수업이 있습니다!\n",
      "\n",
      "\n",
      "[ TimeTable ]\n",
      "-------------\n",
      "| |M|T|W|T|F|\n",
      "-------------\n",
      "|1| | | | | |\n",
      "|2| |A| | | |\n",
      "|3| |A| | | |\n",
      "|4| | | | |C|\n",
      "|5| | | | |C|\n",
      "|6| | | | |C|\n",
      "|7| | | | | |\n",
      "|8| | | |B| |\n",
      "-------------\n",
      "\n",
      ">>> 메뉴를 선택하세요 (1. 수업등록, 2. 종료): 2\n"
     ]
    }
   ],
   "source": [
    "while True:\n",
    "    \n",
    "    # 시간표 표시\n",
    "    print_timetable(**classes)\n",
    "    \n",
    "    # 프로그램 메뉴  \n",
    "    choice = input(\">>> 메뉴를 선택하세요 (1. 수업등록, 2. 종료): \")\n",
    "\n",
    "    if choice == '2':   # 프로그램 종료\n",
    "        break\n",
    "    elif choice != '1': # 다른 입력 무시\n",
    "        print(\">>> [ERROR] 잘못 입력하셨습니다!\")  # 오류 처리\n",
    "        continue\n",
    "        \n",
    "    # 수업의 요일 및 교시 입력      \n",
    "    wday, shour = input(\">>> 등록할 수업의 요일과 교시를 입력하세요: \").split()\n",
    "    \n",
    "    # 요일 입력 오류 체크\n",
    "    if weekdays.count(wday) == 0:\n",
    "        print(\">>> [ERROR] 요일을 잘못 입력하셨습니다!\")      # 요일 입력 오류 \n",
    "        continue\n",
    "    \n",
    "    # 수업시간 범위 체크\n",
    "        \n",
    "    if not (1<=int(shour)<=8):\n",
    "        print(\">>> [ERROR] 시작 시간을 잘못 입력하셨습니다!\")  # 시작 시간 입력 오류     \n",
    "        continue\n",
    "    \n",
    "    # 수업의 연강 시간 입력  \n",
    "    count = int(input(\">>> 등록할 수업의 연강시간을 입력하세요: \"))\n",
    "\n",
    "    # 연강 시간 범위 체크\n",
    "    if count < 1:\n",
    "        print(\">>> [ERROR] 연강 시간을 잘못 입력하셨습니다!\")  # 연강 시간 입력 오류\n",
    "        continue\n",
    "    elif not (1<=int(shour)+count-1<=8):\n",
    "        print(\">>> [ERROR] 등록하려는 수업이 등록 가능 시간을 벗어납니다!\")  # 범위 오류\n",
    "        continue\n",
    "\n",
    "    # 수업 중복 체크\n",
    "    if dup_check(wday, shour, count, **classes):\n",
    "        print(\">>> [ERROR] 해당 시간에 이미 수업이 있습니다!\")  # 범위 오류    \n",
    "        continue\n",
    "        \n",
    "    # 수업의 알파벳 입력  \n",
    "    title = input(\">>> 등록할 수업의 알파벳을 입력하세요: \")        \n",
    "\n",
    "    # 수업 정보 입력\n",
    "    for i in range(count):\n",
    "        classes[str(int(shour)+i)][wday] = title[0]  # 맨 처음 문자만 입력\n"
   ]
  },
  {
   "cell_type": "markdown",
   "id": "cf611e71",
   "metadata": {},
   "source": [
    "### 모범 답안과 자신의 답을 비교해가며 복습하세요. "
   ]
  },
  {
   "cell_type": "code",
   "execution_count": null,
   "id": "0c43a325",
   "metadata": {
    "scrolled": true
   },
   "outputs": [],
   "source": []
  }
 ],
 "metadata": {
  "kernelspec": {
   "display_name": "Python 3 (ipykernel)",
   "language": "python",
   "name": "python3"
  },
  "language_info": {
   "codemirror_mode": {
    "name": "ipython",
    "version": 3
   },
   "file_extension": ".py",
   "mimetype": "text/x-python",
   "name": "python",
   "nbconvert_exporter": "python",
   "pygments_lexer": "ipython3",
   "version": "3.9.8"
  }
 },
 "nbformat": 4,
 "nbformat_minor": 5
}
