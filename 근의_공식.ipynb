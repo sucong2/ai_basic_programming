{
  "nbformat": 4,
  "nbformat_minor": 0,
  "metadata": {
    "colab": {
      "name": "근의 공식",
      "provenance": [],
      "collapsed_sections": [],
      "authorship_tag": "ABX9TyNmI4oPmkiksAkPC9LkHOzo",
      "include_colab_link": true
    },
    "kernelspec": {
      "name": "python3",
      "display_name": "Python 3"
    },
    "language_info": {
      "name": "python"
    }
  },
  "cells": [
    {
      "cell_type": "markdown",
      "metadata": {
        "id": "view-in-github",
        "colab_type": "text"
      },
      "source": [
        "<a href=\"https://colab.research.google.com/github/sucong2/ai_basic_programming/blob/main/%EA%B7%BC%EC%9D%98_%EA%B3%B5%EC%8B%9D.ipynb\" target=\"_parent\"><img src=\"https://colab.research.google.com/assets/colab-badge.svg\" alt=\"Open In Colab\"/></a>"
      ]
    },
    {
      "cell_type": "markdown",
      "source": [
        "# *Header: 근의 공식, 2022_04_20, 20220229, 김수빈"
      ],
      "metadata": {
        "id": "iBAUY1hcloCt"
      }
    },
    {
      "cell_type": "code",
      "execution_count": 20,
      "metadata": {
        "colab": {
          "base_uri": "https://localhost:8080/"
        },
        "id": "DoNJ0s0-YJk9",
        "outputId": "c047fc6e-c763-4efe-c39f-60595297edd5"
      },
      "outputs": [
        {
          "output_type": "stream",
          "name": "stdout",
          "text": [
            "[2차방정식의 실수 해 계산 프로그램]\n",
            "=====================================\n",
            "x에 대한 2차 방정식 ax^2 + bx + c = 0에서 \n",
            " 상수 a,b,c의 값을 차례로 입력하세요.2,2,-4\n",
            "입력한 2차방정식: 2 x^2 2 x  -4 = 0 은\n",
            "-------------------------------------\n",
            "2개의 실수 해가 있습니다: x = 1.0 , x = -2.0\n",
            "=====================================\n"
          ]
        }
      ],
      "source": [
        "def root_cal(a,b,c):\n",
        "    D = (b**2) - (4*a*c)\n",
        "    if D>0:\n",
        "        a1= (-b + (b**2-4*a*c)**0.5)/(2*a)\n",
        "        a2 = (-b - (b**2-4*a*c)**0.5)/(2*a)\n",
        "        print(\"2개의 실수 해가 있습니다: x = {} , x = {}\".format(a1,a2))\n",
        "        print(\"=====================================\")\n",
        "\n",
        "    elif D==0:\n",
        "        x = -b / 2*a\n",
        "        print(\"1개의 실수 해가 존재합니다. x = {}입니다.\". format(x))\n",
        "        print(\"=====================================\")\n",
        "\n",
        "    else:\n",
        "        print(\"실수 해가 존재하지 않습니다.\")\n",
        "        print(\"=====================================\")\n",
        "\n",
        "\n",
        "\n",
        "print(\"[2차방정식의 실수 해 계산 프로그램]\")\n",
        "print(\"=====================================\")\n",
        "a, b, c=map(int,input(\"x에 대한 2차 방정식 ax^2 + bx + c = 0에서 \\n상수 a,b,c의 값을 차례로 입력하세요.\").split(','))\n",
        "print(\"입력한 2차방정식:\", a,\"x^2\", int(b),\"x \",int(c) ,\"= 0 은\")\n",
        "print(\"---------------------------------------------------------\")\n",
        "\n",
        "root_cal(a,b,c)"
      ]
    },
    {
      "cell_type": "markdown",
      "source": [
        "# *Footer: 제출일이 늦어서 죄송합니다. 안세혁 선배께서 늦어도 제출하라고 알려주셔서 지금이라도 보냅니다. 죄송합니다 (!ㅠ_ㅠ!), 추가로 입력값이 양수와 음수에 따라 부호를 붙여야 하는 것에 대한 의문이 들었지만 과제 내용 상으로 포함되어있지 않아 그 부분은 제외하고 진행하였습니다. "
      ],
      "metadata": {
        "id": "NBw1tg73mLi1"
      }
    },
    {
      "cell_type": "code",
      "source": [
        ""
      ],
      "metadata": {
        "id": "lKJdZF32f-h_"
      },
      "execution_count": null,
      "outputs": []
    }
  ]
}