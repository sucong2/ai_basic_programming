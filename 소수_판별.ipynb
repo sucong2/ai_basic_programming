{
  "nbformat": 4,
  "nbformat_minor": 0,
  "metadata": {
    "colab": {
      "name": "소수 판별",
      "provenance": [],
      "authorship_tag": "ABX9TyNR8nGrtIabE+5iPzEAejaO",
      "include_colab_link": true
    },
    "kernelspec": {
      "name": "python3",
      "display_name": "Python 3"
    },
    "language_info": {
      "name": "python"
    }
  },
  "cells": [
    {
      "cell_type": "markdown",
      "metadata": {
        "id": "view-in-github",
        "colab_type": "text"
      },
      "source": [
        "<a href=\"https://colab.research.google.com/github/sucong2/ai_basic_programming/blob/main/%EC%86%8C%EC%88%98_%ED%8C%90%EB%B3%84.ipynb\" target=\"_parent\"><img src=\"https://colab.research.google.com/assets/colab-badge.svg\" alt=\"Open In Colab\"/></a>"
      ]
    },
    {
      "cell_type": "code",
      "execution_count": 18,
      "metadata": {
        "colab": {
          "base_uri": "https://localhost:8080/"
        },
        "id": "YSKyAw4vtr9Z",
        "outputId": "4be8476f-05ed-47fb-cdb0-0b6a4222e6ce"
      },
      "outputs": [
        {
          "output_type": "stream",
          "name": "stdout",
          "text": [
            "정수를 입력하세요482\n",
            "소수가 아닙니다.\n"
          ]
        }
      ],
      "source": [
        "num = int(input(\"정수를 입력하세요\"))\n",
        "while True:\n",
        "  if (num == 2) or (num == 3):\n",
        "    print(\"소수 입니다.\")\n",
        "    break\n",
        "\n",
        "  elif (num % 2 == 0):\n",
        "    print(\"소수가 아닙니다.\")\n",
        "    break\n",
        "  elif (num % 3 == 0):\n",
        "    print(\"소수가 아닙니다.\")\n",
        "    break\n",
        "  else :\n",
        "    print(\"소수입니다.\")\n",
        "    break\n"
      ]
    },
    {
      "cell_type": "code",
      "source": [
        ""
      ],
      "metadata": {
        "id": "BIw8Eig5t2mI"
      },
      "execution_count": null,
      "outputs": []
    }
  ]
}