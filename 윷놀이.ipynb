{
  "nbformat": 4,
  "nbformat_minor": 0,
  "metadata": {
    "colab": {
      "name": "\b윷놀이",
      "provenance": [],
      "collapsed_sections": [],
      "authorship_tag": "ABX9TyPt30ATsaoFMVz5QcRBPrV4",
      "include_colab_link": true
    },
    "kernelspec": {
      "name": "python3",
      "display_name": "Python 3"
    },
    "language_info": {
      "name": "python"
    }
  },
  "cells": [
    {
      "cell_type": "markdown",
      "metadata": {
        "id": "view-in-github",
        "colab_type": "text"
      },
      "source": [
        "<a href=\"https://colab.research.google.com/github/sucong2/ai_basic_programming/blob/main/%08%EC%9C%B7%EB%86%80%EC%9D%B4.ipynb\" target=\"_parent\"><img src=\"https://colab.research.google.com/assets/colab-badge.svg\" alt=\"Open In Colab\"/></a>"
      ]
    },
    {
      "cell_type": "markdown",
      "source": [
        "### Header: 윷놀이 / 20220501 / 20220229 / 김수빈"
      ],
      "metadata": {
        "id": "HWrsTYlTiU2c"
      }
    },
    {
      "cell_type": "markdown",
      "source": [
        "### Footer: 실행 횟수가 1일때 0점으로 시작하게 되어 실행횟수가 2가 되어야 점수가 적용이 되게 된다. 이부분이 구현되지 못했다."
      ],
      "metadata": {
        "id": "MRe7Ix7Lin0c"
      }
    },
    {
      "cell_type": "code",
      "execution_count": 7,
      "metadata": {
        "colab": {
          "base_uri": "https://localhost:8080/"
        },
        "id": "DLxGCCfOBiQj",
        "outputId": "c73299bb-c92d-4a86-efec-38fb3a07b417"
      },
      "outputs": [
        {
          "output_type": "stream",
          "name": "stdout",
          "text": [
            ">>상대방이 모를 던졌습니다! 현재  0 점 입니다.\n",
            "<<<당신이 도를 던졌습니다! 현재  0 점 입니다.\n",
            ">>상대방이 모를 던졌습니다! 현재  5 점 입니다.\n",
            "<<<당신이 모를 던졌습니다! 현재  1 점 입니다.\n",
            ">>상대방이 도를 던졌습니다! 현재  10 점 입니다.\n",
            "<<<당신이 모를 던졌습니다! 현재  6 점 입니다.\n",
            ">>상대방이 개를 던졌습니다! 현재  11 점 입니다.\n",
            "<<<당신이 개를 던졌습니다! 현재  11 점 입니다.\n",
            ">>상대방이 모를 던졌습니다! 현재  13 점 입니다.\n",
            "<<<당신이 모를 던졌습니다! 현재  14 점 입니다.\n",
            ">>상대방이 도를 던졌습니다! 현재  18 점 입니다.\n",
            "<<<당신이 모를 던졌습니다! 현재  16 점 입니다.\n",
            ">>상대방이 개를 던졌습니다! 현재  19 점 입니다.\n",
            "<<<당신이 개를 던졌습니다! 현재  20 점 입니다.\n",
            ">>상대방이 윷을 던졌습니다! 현재  21 점 입니다.\n",
            "<<<당신이 도를 던졌습니다! 현재  25 점 입니다.\n",
            ">>상대방이 도를 던졌습니다! 현재  25 점 입니다.\n",
            "<<<당신이 모를 던졌습니다! 현재  26 점 입니다.\n",
            "31 점으로 당신이 이겼습니다.\n",
            "당신이 승리 했습니다.!!\n"
          ]
        }
      ],
      "source": [
        "import random\n",
        "\n",
        "\n",
        "p2_score = 0\n",
        "p1_score = 0\n",
        "#p1_score #p1 점수합\n",
        "#p2_score  #p2 점수합\n",
        "\n",
        "while (True):\n",
        "  do = '도'\n",
        "  gae = '개'\n",
        "  girl = '걸'\n",
        "  yut = '윷'\n",
        "  mo = '모'\n",
        "  p2 = random.randint(1,5)  #상대\n",
        "  p1 = random.randint(1,5) #나\n",
        "  #--------------------------상대 if문\n",
        "  if p2 == 1:\n",
        "    print(\">>상대방이\", do+\"를 던졌습니다! 현재 \", p2_score,\"점 입니다.\")\n",
        "    p2_score += p2\n",
        "\n",
        "  elif p2 == 2:\n",
        "    print(\">>상대방이\", gae+\"를 던졌습니다! 현재 \", p2_score,\"점 입니다.\")\n",
        "    p2_score += p2\n",
        "\n",
        "  elif p2 == 3:\n",
        "    print(\">>상대방이\", girl+\"을 던졌습니다! 현재 \", p2_score,\"점 입니다.\")\n",
        "    p2_score += p2\n",
        "\n",
        "  elif p2 == 4:\n",
        "    print(\">>상대방이\", yut+\"을 던졌습니다! 현재 \", p2_score,\"점 입니다.\")\n",
        "    p2_score += p2\n",
        "\n",
        "  else:\n",
        "    print(\">>상대방이\", mo+\"를 던졌습니다! 현재 \", p2_score,\"점 입니다.\")\n",
        "    p2_score += p2\n",
        "\n",
        "  \n",
        "  #--------------나의 if문\n",
        "  if p1 == 1:\n",
        "    print(\"<<<당신이\", do+\"를 던졌습니다! 현재 \", p1_score,\"점 입니다.\")\n",
        "    p1_score += p1\n",
        "\n",
        "  elif p2 == 2:\n",
        "    print(\"<<<당신이\", gae+\"를 던졌습니다! 현재 \", p1_score,\"점 입니다.\")\n",
        "    p1_score += p1\n",
        "\n",
        "  elif p2 == 3:\n",
        "    print(\"<<<당신이\", girl+\"을 던졌습니다! 현재 \", p1_score,\"점 입니다.\")\n",
        "    p1_score += p1\n",
        "\n",
        "  elif p2 == 4:\n",
        "    print(\"<<<당신이\", yut+\"을 던졌습니다! 현재 \", p1_score,\"점 입니다.\")\n",
        "    p1_score += p1\n",
        "\n",
        "  else:\n",
        "    print(\"<<<당신이\", mo+\"를 던졌습니다! 현재 \", p1_score,\"점 입니다.\")\n",
        "    p1_score += p1\n",
        "  #---------승패 판단----------\n",
        "  if(p2_score >= 30):\n",
        "    print(p2_score,\"점으로 상대가 이겼습니다.\")\n",
        "    print(\">>상대방이 승리 했습니다.\")\n",
        "    break\n",
        "  if (p1_score >= 30):\n",
        "    print(p1_score,\"점으로 당신이 이겼습니다.\")\n",
        "    print(\"당신이 승리 했습니다.!!\")\n",
        "    break\n",
        " "
      ]
    },
    {
      "cell_type": "code",
      "source": [
        "a"
      ],
      "metadata": {
        "colab": {
          "base_uri": "https://localhost:8080/",
          "height": 134
        },
        "id": "fgNn9W6_ETUV",
        "outputId": "f65aa654-d461-4b20-abda-699ede8b9cf9"
      },
      "execution_count": null,
      "outputs": [
        {
          "output_type": "error",
          "ename": "SyntaxError",
          "evalue": "ignored",
          "traceback": [
            "\u001b[0;36m  File \u001b[0;32m\"<ipython-input-25-0b024bbfe84e>\"\u001b[0;36m, line \u001b[0;32m1\u001b[0m\n\u001b[0;31m    +\u001b[0m\n\u001b[0m     ^\u001b[0m\n\u001b[0;31mSyntaxError\u001b[0m\u001b[0;31m:\u001b[0m invalid syntax\n"
          ]
        }
      ]
    },
    {
      "cell_type": "code",
      "source": [
        ""
      ],
      "metadata": {
        "id": "fsPXO9i0Lp25"
      },
      "execution_count": null,
      "outputs": []
    }
  ]
}