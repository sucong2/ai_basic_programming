{
  "nbformat": 4,
  "nbformat_minor": 0,
  "metadata": {
    "colab": {
      "name": "\b윷놀이",
      "provenance": [],
      "collapsed_sections": [],
      "authorship_tag": "ABX9TyMl2gqKTYfZC5TF2O0CIqKD",
      "include_colab_link": true
    },
    "kernelspec": {
      "name": "python3",
      "display_name": "Python 3"
    },
    "language_info": {
      "name": "python"
    }
  },
  "cells": [
    {
      "cell_type": "markdown",
      "metadata": {
        "id": "view-in-github",
        "colab_type": "text"
      },
      "source": [
        "<a href=\"https://colab.research.google.com/github/sucong2/ai_basic_programming/blob/main/%08%EC%9C%B7%EB%86%80%EC%9D%B4.ipynb\" target=\"_parent\"><img src=\"https://colab.research.google.com/assets/colab-badge.svg\" alt=\"Open In Colab\"/></a>"
      ]
    },
    {
      "cell_type": "code",
      "execution_count": 2,
      "metadata": {
        "colab": {
          "base_uri": "https://localhost:8080/"
        },
        "id": "DLxGCCfOBiQj",
        "outputId": "1d4d4864-49d0-488b-a9fd-fdbdeab8725c"
      },
      "outputs": [
        {
          "output_type": "stream",
          "name": "stdout",
          "text": [
            "당신이 윷을 던졌습니다! 현재 점수는 0 입니다.\n",
            ">>상대방이 윷을 던졌습니다! 현재 점수는 0 입니다.\n",
            "당신이 모를 던졌습니다! 현재 점수는 5 입니다.\n",
            ">>상대방이 도를 던졌습니다! 현재 점수는 4 입니다.\n",
            "당신이 개를 던졌습니다! 현재 점수는 9 입니다.\n",
            ">>상대방이 개를 던졌습니다! 현재 점수는 5 입니다.\n",
            "당신이 윷을 던졌습니다! 현재 점수는 14 입니다.\n",
            ">>상대방이 윷을 던졌습니다! 현재 점수는 7 입니다.\n",
            "당신이 모를 던졌습니다! 현재 점수는 16 입니다.\n",
            ">>상대방이 도를 던졌습니다! 현재 점수는 11 입니다.\n",
            "당신이 윷을 던졌습니다! 현재 점수는 19 입니다.\n",
            ">>상대방이 윷을 던졌습니다! 현재 점수는 12 입니다.\n",
            "당신이 걸을 던졌습니다! 현재 점수는 23 입니다.\n",
            ">>상대방이 걸을 던졌습니다! 현재 점수는 16 입니다.\n",
            "당신이 걸을 던졌습니다! 현재 점수는 25 입니다.\n",
            ">>상대방이 걸을 던졌습니다! 현재 점수는 19 입니다.\n",
            "30\n",
            "당신이 승리 했습니다.!!\n"
          ]
        }
      ],
      "source": [
        "import random\n",
        "\n",
        "\n",
        "p2_score = 0\n",
        "p1_score = 0\n",
        "#p1_score #p1 점수합\n",
        "#p2_score  #p2 점수합\n",
        "\n",
        "while (True):\n",
        "  do = '도'\n",
        "  gae = '개'\n",
        "  girl = '걸'\n",
        "  yut = '윷'\n",
        "  mo = '모'\n",
        "  p2 = random.randint(1,5)  #상대\n",
        "  p1 = random.randint(1,5) #나\n",
        " \n",
        "  #--------------나의 if문\n",
        "  if p1 == 1:\n",
        "    print(\"당신이\", do+\"를 던졌습니다! 현재 점수는\", p1_score,\"입니다.\")\n",
        "    p1_score += p1\n",
        "\n",
        "  elif p2 == 2:\n",
        "    print(\"당신이\", gae+\"를 던졌습니다! 현재 점수는\", p1_score,\"입니다.\")\n",
        "    p1_score += p1\n",
        "\n",
        "  elif p2 == 3:\n",
        "    print(\"당신이\", girl+\"을 던졌습니다! 현재 점수는\", p1_score,\"입니다.\")\n",
        "    p1_score += p1\n",
        "\n",
        "  elif p2 == 4:\n",
        "    print(\"당신이\", yut+\"을 던졌습니다! 현재 점수는\", p1_score,\"입니다.\")\n",
        "    p1_score += p1\n",
        "\n",
        "  else:\n",
        "    print(\"당신이\", mo+\"를 던졌습니다! 현재 점수는\", p1_score,\"입니다.\")\n",
        "    p1_score += p1\n",
        "#--------------------------상대 if문\n",
        "  if p2 == 1:\n",
        "    print(\">>상대방이\", do+\"를 던졌습니다! 현재 점수는\", p2_score,\"입니다.\")\n",
        "    p2_score += p2\n",
        "\n",
        "  elif p2 == 2:\n",
        "    print(\">>상대방이\", gae+\"를 던졌습니다! 현재 점수는\", p2_score,\"입니다.\")\n",
        "    p2_score += p2\n",
        "\n",
        "  elif p2 == 3:\n",
        "    print(\">>상대방이\", girl+\"을 던졌습니다! 현재 점수는\", p2_score,\"입니다.\")\n",
        "    p2_score += p2\n",
        "\n",
        "  elif p2 == 4:\n",
        "    print(\">>상대방이\", yut+\"을 던졌습니다! 현재 점수는\", p2_score,\"입니다.\")\n",
        "    p2_score += p2\n",
        "\n",
        "  else:\n",
        "    print(\">>상대방이\", mo+\"를 던졌습니다! 현재 점수는\", p2_score,\"입니다.\")\n",
        "    p2_score += p2\n",
        "\n",
        "  if(p2_score >= 30):\n",
        "    print(p2_score)\n",
        "    print(\">>싱대방이 승리 했습니다.\")\n",
        "    break\n",
        "  if (p1_score >= 30):\n",
        "    print(p1_score)\n",
        "    print(\"당신이 승리 했습니다.!!\")\n",
        "    break"
      ]
    },
    {
      "cell_type": "code",
      "source": [
        "a"
      ],
      "metadata": {
        "colab": {
          "base_uri": "https://localhost:8080/",
          "height": 134
        },
        "id": "fgNn9W6_ETUV",
        "outputId": "f65aa654-d461-4b20-abda-699ede8b9cf9"
      },
      "execution_count": null,
      "outputs": [
        {
          "output_type": "error",
          "ename": "SyntaxError",
          "evalue": "ignored",
          "traceback": [
            "\u001b[0;36m  File \u001b[0;32m\"<ipython-input-25-0b024bbfe84e>\"\u001b[0;36m, line \u001b[0;32m1\u001b[0m\n\u001b[0;31m    +\u001b[0m\n\u001b[0m     ^\u001b[0m\n\u001b[0;31mSyntaxError\u001b[0m\u001b[0;31m:\u001b[0m invalid syntax\n"
          ]
        }
      ]
    },
    {
      "cell_type": "code",
      "source": [
        ""
      ],
      "metadata": {
        "id": "fsPXO9i0Lp25"
      },
      "execution_count": null,
      "outputs": []
    }
  ]
}