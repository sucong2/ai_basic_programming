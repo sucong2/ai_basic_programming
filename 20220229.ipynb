{
 "cells": [
  {
   "cell_type": "markdown",
   "id": "4a0f1014-1d9e-4a1c-add9-f9df01dbe636",
   "metadata": {},
   "source": [
    "# header : 자동판매기 프로그램, 3/24, 20220229, 김수빈\n",
    "print(\"1000원, 500원, 100원 단위로 입력해주세요.(입력을 원하지 않는다면 0 을 입력해주세요.)\")\n",
    "print(\"[자동판매기 프로그램]\");\n",
    "\n",
    "print(\"========================\");\n",
    "\n",
    "m1000 = input(\"입력할 1000원짜리 동전 개수: \");\n",
    "m500 = input(\"입력할 500원짜리 동전 개수: \");\n",
    "m100 = input(\"입력할 100원짜리 동전 개수: \");\n",
    "product = input(\"구입할 물건 값 입력: \");\n",
    "\n",
    "print(\"========================\");\n",
    "### 개수에 맞는 금액산정 \n",
    "won1000 = int(m1000)*1000; \n",
    "won500 = int(m500)*500;\n",
    "won100 = int(m100)*100;\n",
    "### 총액에서 뺀 금액 \n",
    "money = won1000+won500+won100; \n",
    "money = int(money)-int(product); \n",
    "### 나머지 구함\n",
    "return1000 = money//1000;\n",
    "money = money %1000;\n",
    "return500 = money//500;\n",
    "money = money%500; \n",
    "return100 = money//100; \n",
    "money = money%100; \n",
    "return10 = money//10; \n",
    "money = money%10; \n",
    "return1 = money//1; \n",
    "### 결과 출력  \n",
    "print(\"1000원: \"+str(return1000)+\",500원: \"+str(return500)+\", 100원: \"+str(return100)+\", 10원: \"+str(return10)+\", 1원: \"+str(return1));\n",
    "# footer : 크게 어려운 부분은 없었으나 기존 자판기 문제와 조금 다른 구조로 돌아가는것으로 보입니다. 아마도 if문을 제외하고 만들어야하다 보니 그렇게 된것 같습니다.\n",
    "\n"
   ]
  },
  {
   "cell_type": "code",
   "execution_count": null,
   "id": "01a93ff1-c551-49d1-a137-f60ea1f8c932",
   "metadata": {},
   "outputs": [],
   "source": []
  }
 ],
 "metadata": {
  "kernelspec": {
   "display_name": "Python 3 (ipykernel)",
   "language": "python",
   "name": "python3"
  },
  "language_info": {
   "codemirror_mode": {
    "name": "ipython",
    "version": 3
   },
   "file_extension": ".py",
   "mimetype": "text/x-python",
   "name": "python",
   "nbconvert_exporter": "python",
   "pygments_lexer": "ipython3",
   "version": "3.9.7"
  }
 },
 "nbformat": 4,
 "nbformat_minor": 5
}
